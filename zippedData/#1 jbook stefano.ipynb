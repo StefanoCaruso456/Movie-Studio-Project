{
 "cells": [
  {
   "cell_type": "markdown",
   "metadata": {},
   "source": [
    "## Recommendations for Microsoft's New Movie Studio"
   ]
  },
  {
   "cell_type": "markdown",
   "metadata": {},
   "source": [
    "####  In this notebook we are going to analyze the relationship between the movie success and movie time of release,movie runtime, movie genre, directors, and actors/actresses. Success will be based on ROI and Profit margin."
   ]
  },
  {
   "cell_type": "markdown",
   "metadata": {},
   "source": [
    "#### First objective is to clean up the movie budget dataframe, then merge all the relevant data sets."
   ]
  },
  {
   "cell_type": "code",
   "execution_count": null,
   "metadata": {},
   "outputs": [],
   "source": [
    "\n",
    "#importing packages\n",
    "\n",
    "import pandas as pd\n",
    "import numpy as np\n",
    "import matplotlib.pyplot as plt\n",
    "%matplotlib inline\n",
    "import seaborn as sns\n",
    "from matplotlib.pyplot import figure"
   ]
  },
  {
   "cell_type": "code",
   "execution_count": null,
   "metadata": {},
   "outputs": [],
   "source": [
    "\n",
    "actor = pd.read_csv('imdb.name.basics.csv.gz')\n",
    "run_time = pd.read_csv('imdb.title.basics.csv.gz')\n",
    "w_d = pd.read_csv('imdb.title.crew.csv.gz')\n",
    "funds = pd.read_csv('tn.movie_budgets.csv.gz') \n",
    "\n"
   ]
  },
  {
   "cell_type": "code",
   "execution_count": null,
   "metadata": {},
   "outputs": [],
   "source": [
    "#copy df to work on, do not overwrite orignal \n",
    "numbers = funds.copy()\n",
    "star = actor.copy()\n",
    "length = run_time.copy()\n",
    "player = w_d.copy()\n",
    "\n",
    "\n",
    "#funtion for cleaning\n",
    "def clean_a_money_column(df, series_title):\n",
    "    df[series_title] = df[series_title].str.replace('$','')\n",
    "    df[series_title] = df[series_title].str.replace(',','')\n",
    "    df[series_title] = pd.to_numeric(df[series_title])\n",
    "    return df\n",
    "\n",
    "\n",
    "\n",
    "#remove $ string\n",
    "numbers = clean_a_money_column(numbers,'worldwide_gross')\n",
    "numbers = clean_a_money_column(numbers,'domestic_gross')\n",
    "numbers = clean_a_money_column(numbers,'production_budget')\n",
    "\n",
    "\n",
    "\n",
    "# new column foreign_gross, Profit Margin, ROI\n",
    "numerator = numbers['worldwide_gross'] - numbers['production_budget']\n",
    "numbers['foreign_gross'] = numbers['worldwide_gross'] - numbers['production_budget']\n",
    "numbers['Profit Margin'] = (numerator*100)/numbers['worldwide_gross']\n",
    "numbers.loc[numbers['Profit Margin'] == float('-inf'), 'Profit Margin'] = 0\n",
    "numbers['ROI'] = (numbers['worldwide_gross']/numbers['production_budget'])\n",
    "\n",
    "\n",
    "\n",
    "# new columns month and year \n",
    "numbers['Year'] = pd.to_numeric(numbers['release_date'].map(lambda x: x[-4:]))\n",
    "numbers['Month'] = numbers['release_date'].map(lambda x: x[:3])\n",
    "\n",
    "\n",
    "\n",
    "#check for dupes\n",
    "movie_dupes = pd.Series(numbers['movie'].value_counts())\n",
    "title_dupes = [movie_dupes.index[index] for index in list(range(len(movie_dupes))) if movie_dupes.values[index] > 1]\n",
    "numbers[numbers['movie'].isin(title_dupes)]\n",
    "\n",
    "numbers.head(3)\n"
   ]
  },
  {
   "cell_type": "markdown",
   "metadata": {},
   "source": [
    "# Reading in IMDB's title.basics dataset"
   ]
  },
  {
   "cell_type": "code",
   "execution_count": null,
   "metadata": {},
   "outputs": [],
   "source": [
    "length.head()"
   ]
  },
  {
   "cell_type": "code",
   "execution_count": null,
   "metadata": {},
   "outputs": [],
   "source": [
    "length.info()"
   ]
  },
  {
   "cell_type": "code",
   "execution_count": null,
   "metadata": {},
   "outputs": [],
   "source": [
    "length['genres'].value_counts()"
   ]
  },
  {
   "cell_type": "code",
   "execution_count": null,
   "metadata": {},
   "outputs": [],
   "source": [
    "length.dropna(subset=['genres'], axis=0, inplace=True)"
   ]
  },
  {
   "cell_type": "code",
   "execution_count": null,
   "metadata": {},
   "outputs": [],
   "source": [
    "length['genres'].map(lambda x: x.split(','))"
   ]
  },
  {
   "cell_type": "markdown",
   "metadata": {},
   "source": [
    "# Genre Data Exploration "
   ]
  },
  {
   "cell_type": "code",
   "execution_count": null,
   "metadata": {},
   "outputs": [],
   "source": []
  },
  {
   "cell_type": "code",
   "execution_count": null,
   "metadata": {},
   "outputs": [],
   "source": []
  }
 ],
 "metadata": {
  "kernelspec": {
   "display_name": "Python 3",
   "language": "python",
   "name": "python3"
  },
  "language_info": {
   "codemirror_mode": {
    "name": "ipython",
    "version": 3
   },
   "file_extension": ".py",
   "mimetype": "text/x-python",
   "name": "python",
   "nbconvert_exporter": "python",
   "pygments_lexer": "ipython3",
   "version": "3.8.5"
  }
 },
 "nbformat": 4,
 "nbformat_minor": 5
}
