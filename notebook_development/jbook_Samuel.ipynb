{
 "cells": [
  {
   "cell_type": "markdown",
   "metadata": {},
   "source": [
    "## Recommendations for Microsoft's New Movie Studio"
   ]
  },
  {
   "cell_type": "markdown",
   "metadata": {},
   "source": [
    "####  In this notebook we are going to analyze the relationship between the movie success and movie time of release,movie runtime, movie genre, directors, and actors/actresses. Success will be based on ROI and Profit margin."
   ]
  },
  {
   "cell_type": "markdown",
   "metadata": {},
   "source": [
    "#### First objective is to clean up the movie budget dataframe, then merge all the relevant data sets."
   ]
  },
  {
   "cell_type": "code",
   "execution_count": 1,
   "metadata": {},
   "outputs": [],
   "source": [
    "\n",
    "#importing packages\n",
    "\n",
    "import pandas as pd\n",
    "import numpy as np\n",
    "import matplotlib.pyplot as plt\n",
    "%matplotlib inline\n",
    "import seaborn as sns\n",
    "from matplotlib.pyplot import figure\n",
    "import sqlite3"
   ]
  },
  {
   "cell_type": "code",
   "execution_count": 2,
   "metadata": {},
   "outputs": [
    {
     "name": "stdout",
     "output_type": "stream",
     "text": [
      " Volume in drive C is Local Disk\n",
      " Volume Serial Number is EAC5-AF97\n",
      "\n",
      " Directory of C:\\Users\\stefano caruso\\OneDrive\\Desktop\\flatiron\\Movie-Studio-Project\\notebook_development\n",
      "\n",
      "10/06/2022  12:50 PM           345,850 #1 jbook stefano.ipynb\n",
      "10/06/2022  08:47 PM    <DIR>          .\n",
      "10/06/2022  08:47 PM    <DIR>          ..\n",
      "10/06/2022  08:36 AM    <DIR>          .ipynb_checkpoints\n",
      "10/06/2022  08:32 AM           259,503 Andrew_Jbook_10_04_22.ipynb\n",
      "10/06/2022  08:47 PM            28,810 jbook_Samuel.ipynb\n",
      "               3 File(s)        634,163 bytes\n",
      "               3 Dir(s)  166,752,411,648 bytes free\n"
     ]
    }
   ],
   "source": [
    "ls"
   ]
  },
  {
   "cell_type": "code",
   "execution_count": 3,
   "metadata": {},
   "outputs": [],
   "source": [
    "#creating connection to the data\n",
    "conn = sqlite3.connect('../zippedData/im.db/im.db')"
   ]
  },
  {
   "cell_type": "code",
   "execution_count": 4,
   "metadata": {},
   "outputs": [],
   "source": [
    "#creating variable to read csv file\n",
    "funds = pd.read_csv('../zippedData/tn.movie_budgets.csv.gz')"
   ]
  },
  {
   "cell_type": "code",
   "execution_count": 5,
   "metadata": {},
   "outputs": [
    {
     "data": {
      "text/html": [
       "<div>\n",
       "<style scoped>\n",
       "    .dataframe tbody tr th:only-of-type {\n",
       "        vertical-align: middle;\n",
       "    }\n",
       "\n",
       "    .dataframe tbody tr th {\n",
       "        vertical-align: top;\n",
       "    }\n",
       "\n",
       "    .dataframe thead th {\n",
       "        text-align: right;\n",
       "    }\n",
       "</style>\n",
       "<table border=\"1\" class=\"dataframe\">\n",
       "  <thead>\n",
       "    <tr style=\"text-align: right;\">\n",
       "      <th></th>\n",
       "      <th>type</th>\n",
       "      <th>name</th>\n",
       "      <th>tbl_name</th>\n",
       "      <th>rootpage</th>\n",
       "      <th>sql</th>\n",
       "    </tr>\n",
       "  </thead>\n",
       "  <tbody>\n",
       "    <tr>\n",
       "      <th>0</th>\n",
       "      <td>table</td>\n",
       "      <td>movie_basics</td>\n",
       "      <td>movie_basics</td>\n",
       "      <td>2</td>\n",
       "      <td>CREATE TABLE \"movie_basics\" (\\n\"movie_id\" TEXT...</td>\n",
       "    </tr>\n",
       "    <tr>\n",
       "      <th>1</th>\n",
       "      <td>table</td>\n",
       "      <td>directors</td>\n",
       "      <td>directors</td>\n",
       "      <td>3</td>\n",
       "      <td>CREATE TABLE \"directors\" (\\n\"movie_id\" TEXT,\\n...</td>\n",
       "    </tr>\n",
       "    <tr>\n",
       "      <th>2</th>\n",
       "      <td>table</td>\n",
       "      <td>known_for</td>\n",
       "      <td>known_for</td>\n",
       "      <td>4</td>\n",
       "      <td>CREATE TABLE \"known_for\" (\\n\"person_id\" TEXT,\\...</td>\n",
       "    </tr>\n",
       "    <tr>\n",
       "      <th>3</th>\n",
       "      <td>table</td>\n",
       "      <td>movie_akas</td>\n",
       "      <td>movie_akas</td>\n",
       "      <td>5</td>\n",
       "      <td>CREATE TABLE \"movie_akas\" (\\n\"movie_id\" TEXT,\\...</td>\n",
       "    </tr>\n",
       "    <tr>\n",
       "      <th>4</th>\n",
       "      <td>table</td>\n",
       "      <td>movie_ratings</td>\n",
       "      <td>movie_ratings</td>\n",
       "      <td>6</td>\n",
       "      <td>CREATE TABLE \"movie_ratings\" (\\n\"movie_id\" TEX...</td>\n",
       "    </tr>\n",
       "    <tr>\n",
       "      <th>5</th>\n",
       "      <td>table</td>\n",
       "      <td>persons</td>\n",
       "      <td>persons</td>\n",
       "      <td>7</td>\n",
       "      <td>CREATE TABLE \"persons\" (\\n\"person_id\" TEXT,\\n ...</td>\n",
       "    </tr>\n",
       "    <tr>\n",
       "      <th>6</th>\n",
       "      <td>table</td>\n",
       "      <td>principals</td>\n",
       "      <td>principals</td>\n",
       "      <td>8</td>\n",
       "      <td>CREATE TABLE \"principals\" (\\n\"movie_id\" TEXT,\\...</td>\n",
       "    </tr>\n",
       "    <tr>\n",
       "      <th>7</th>\n",
       "      <td>table</td>\n",
       "      <td>writers</td>\n",
       "      <td>writers</td>\n",
       "      <td>9</td>\n",
       "      <td>CREATE TABLE \"writers\" (\\n\"movie_id\" TEXT,\\n  ...</td>\n",
       "    </tr>\n",
       "  </tbody>\n",
       "</table>\n",
       "</div>"
      ],
      "text/plain": [
       "    type           name       tbl_name  rootpage  \\\n",
       "0  table   movie_basics   movie_basics         2   \n",
       "1  table      directors      directors         3   \n",
       "2  table      known_for      known_for         4   \n",
       "3  table     movie_akas     movie_akas         5   \n",
       "4  table  movie_ratings  movie_ratings         6   \n",
       "5  table        persons        persons         7   \n",
       "6  table     principals     principals         8   \n",
       "7  table        writers        writers         9   \n",
       "\n",
       "                                                 sql  \n",
       "0  CREATE TABLE \"movie_basics\" (\\n\"movie_id\" TEXT...  \n",
       "1  CREATE TABLE \"directors\" (\\n\"movie_id\" TEXT,\\n...  \n",
       "2  CREATE TABLE \"known_for\" (\\n\"person_id\" TEXT,\\...  \n",
       "3  CREATE TABLE \"movie_akas\" (\\n\"movie_id\" TEXT,\\...  \n",
       "4  CREATE TABLE \"movie_ratings\" (\\n\"movie_id\" TEX...  \n",
       "5  CREATE TABLE \"persons\" (\\n\"person_id\" TEXT,\\n ...  \n",
       "6  CREATE TABLE \"principals\" (\\n\"movie_id\" TEXT,\\...  \n",
       "7  CREATE TABLE \"writers\" (\\n\"movie_id\" TEXT,\\n  ...  "
      ]
     },
     "execution_count": 5,
     "metadata": {},
     "output_type": "execute_result"
    }
   ],
   "source": [
    "#examining structure of database and viewing all tables \n",
    "pd.read_sql(\"\"\"\n",
    "\n",
    "SELECT *\n",
    "\n",
    "FROM sqlite_master\n",
    "\n",
    "\"\"\", conn)"
   ]
  },
  {
   "cell_type": "code",
   "execution_count": 6,
   "metadata": {},
   "outputs": [
    {
     "data": {
      "text/html": [
       "<div>\n",
       "<style scoped>\n",
       "    .dataframe tbody tr th:only-of-type {\n",
       "        vertical-align: middle;\n",
       "    }\n",
       "\n",
       "    .dataframe tbody tr th {\n",
       "        vertical-align: top;\n",
       "    }\n",
       "\n",
       "    .dataframe thead th {\n",
       "        text-align: right;\n",
       "    }\n",
       "</style>\n",
       "<table border=\"1\" class=\"dataframe\">\n",
       "  <thead>\n",
       "    <tr style=\"text-align: right;\">\n",
       "      <th></th>\n",
       "      <th>id</th>\n",
       "      <th>release_date</th>\n",
       "      <th>movie</th>\n",
       "      <th>production_budget</th>\n",
       "      <th>domestic_gross</th>\n",
       "      <th>worldwide_gross</th>\n",
       "      <th>net_income</th>\n",
       "      <th>foreign_gross</th>\n",
       "      <th>Profit Margin</th>\n",
       "      <th>ROI</th>\n",
       "      <th>Year</th>\n",
       "      <th>Month</th>\n",
       "    </tr>\n",
       "  </thead>\n",
       "  <tbody>\n",
       "    <tr>\n",
       "      <th>0</th>\n",
       "      <td>1</td>\n",
       "      <td>Dec 18, 2009</td>\n",
       "      <td>Avatar</td>\n",
       "      <td>425000000</td>\n",
       "      <td>760507625</td>\n",
       "      <td>2776345279</td>\n",
       "      <td>2351345279</td>\n",
       "      <td>2015837654</td>\n",
       "      <td>84.692106</td>\n",
       "      <td>553.257713</td>\n",
       "      <td>2009</td>\n",
       "      <td>Dec</td>\n",
       "    </tr>\n",
       "    <tr>\n",
       "      <th>1</th>\n",
       "      <td>2</td>\n",
       "      <td>May 20, 2011</td>\n",
       "      <td>Pirates of the Caribbean: On Stranger Tides</td>\n",
       "      <td>410600000</td>\n",
       "      <td>241063875</td>\n",
       "      <td>1045663875</td>\n",
       "      <td>635063875</td>\n",
       "      <td>804600000</td>\n",
       "      <td>60.733080</td>\n",
       "      <td>154.667286</td>\n",
       "      <td>2011</td>\n",
       "      <td>May</td>\n",
       "    </tr>\n",
       "    <tr>\n",
       "      <th>2</th>\n",
       "      <td>3</td>\n",
       "      <td>Jun 7, 2019</td>\n",
       "      <td>Dark Phoenix</td>\n",
       "      <td>350000000</td>\n",
       "      <td>42762350</td>\n",
       "      <td>149762350</td>\n",
       "      <td>-200237650</td>\n",
       "      <td>107000000</td>\n",
       "      <td>-133.703598</td>\n",
       "      <td>-57.210757</td>\n",
       "      <td>2019</td>\n",
       "      <td>Jun</td>\n",
       "    </tr>\n",
       "    <tr>\n",
       "      <th>3</th>\n",
       "      <td>4</td>\n",
       "      <td>May 1, 2015</td>\n",
       "      <td>Avengers: Age of Ultron</td>\n",
       "      <td>330600000</td>\n",
       "      <td>459005868</td>\n",
       "      <td>1403013963</td>\n",
       "      <td>1072413963</td>\n",
       "      <td>944008095</td>\n",
       "      <td>76.436443</td>\n",
       "      <td>324.384139</td>\n",
       "      <td>2015</td>\n",
       "      <td>May</td>\n",
       "    </tr>\n",
       "    <tr>\n",
       "      <th>4</th>\n",
       "      <td>5</td>\n",
       "      <td>Dec 15, 2017</td>\n",
       "      <td>Star Wars Ep. VIII: The Last Jedi</td>\n",
       "      <td>317000000</td>\n",
       "      <td>620181382</td>\n",
       "      <td>1316721747</td>\n",
       "      <td>999721747</td>\n",
       "      <td>696540365</td>\n",
       "      <td>75.925058</td>\n",
       "      <td>315.369636</td>\n",
       "      <td>2017</td>\n",
       "      <td>Dec</td>\n",
       "    </tr>\n",
       "    <tr>\n",
       "      <th>...</th>\n",
       "      <td>...</td>\n",
       "      <td>...</td>\n",
       "      <td>...</td>\n",
       "      <td>...</td>\n",
       "      <td>...</td>\n",
       "      <td>...</td>\n",
       "      <td>...</td>\n",
       "      <td>...</td>\n",
       "      <td>...</td>\n",
       "      <td>...</td>\n",
       "      <td>...</td>\n",
       "      <td>...</td>\n",
       "    </tr>\n",
       "    <tr>\n",
       "      <th>5777</th>\n",
       "      <td>78</td>\n",
       "      <td>Dec 31, 2018</td>\n",
       "      <td>Red 11</td>\n",
       "      <td>7000</td>\n",
       "      <td>0</td>\n",
       "      <td>0</td>\n",
       "      <td>-7000</td>\n",
       "      <td>0</td>\n",
       "      <td>0.000000</td>\n",
       "      <td>-100.000000</td>\n",
       "      <td>2018</td>\n",
       "      <td>Dec</td>\n",
       "    </tr>\n",
       "    <tr>\n",
       "      <th>5778</th>\n",
       "      <td>79</td>\n",
       "      <td>Apr 2, 1999</td>\n",
       "      <td>Following</td>\n",
       "      <td>6000</td>\n",
       "      <td>48482</td>\n",
       "      <td>240495</td>\n",
       "      <td>234495</td>\n",
       "      <td>192013</td>\n",
       "      <td>97.505146</td>\n",
       "      <td>3908.250000</td>\n",
       "      <td>1999</td>\n",
       "      <td>Apr</td>\n",
       "    </tr>\n",
       "    <tr>\n",
       "      <th>5779</th>\n",
       "      <td>80</td>\n",
       "      <td>Jul 13, 2005</td>\n",
       "      <td>Return to the Land of Wonders</td>\n",
       "      <td>5000</td>\n",
       "      <td>1338</td>\n",
       "      <td>1338</td>\n",
       "      <td>-3662</td>\n",
       "      <td>0</td>\n",
       "      <td>-273.692078</td>\n",
       "      <td>-73.240000</td>\n",
       "      <td>2005</td>\n",
       "      <td>Jul</td>\n",
       "    </tr>\n",
       "    <tr>\n",
       "      <th>5780</th>\n",
       "      <td>81</td>\n",
       "      <td>Sep 29, 2015</td>\n",
       "      <td>A Plague So Pleasant</td>\n",
       "      <td>1400</td>\n",
       "      <td>0</td>\n",
       "      <td>0</td>\n",
       "      <td>-1400</td>\n",
       "      <td>0</td>\n",
       "      <td>0.000000</td>\n",
       "      <td>-100.000000</td>\n",
       "      <td>2015</td>\n",
       "      <td>Sep</td>\n",
       "    </tr>\n",
       "    <tr>\n",
       "      <th>5781</th>\n",
       "      <td>82</td>\n",
       "      <td>Aug 5, 2005</td>\n",
       "      <td>My Date With Drew</td>\n",
       "      <td>1100</td>\n",
       "      <td>181041</td>\n",
       "      <td>181041</td>\n",
       "      <td>179941</td>\n",
       "      <td>0</td>\n",
       "      <td>99.392403</td>\n",
       "      <td>16358.272727</td>\n",
       "      <td>2005</td>\n",
       "      <td>Aug</td>\n",
       "    </tr>\n",
       "  </tbody>\n",
       "</table>\n",
       "<p>5782 rows × 12 columns</p>\n",
       "</div>"
      ],
      "text/plain": [
       "      id  release_date                                        movie  \\\n",
       "0      1  Dec 18, 2009                                       Avatar   \n",
       "1      2  May 20, 2011  Pirates of the Caribbean: On Stranger Tides   \n",
       "2      3   Jun 7, 2019                                 Dark Phoenix   \n",
       "3      4   May 1, 2015                      Avengers: Age of Ultron   \n",
       "4      5  Dec 15, 2017            Star Wars Ep. VIII: The Last Jedi   \n",
       "...   ..           ...                                          ...   \n",
       "5777  78  Dec 31, 2018                                       Red 11   \n",
       "5778  79   Apr 2, 1999                                    Following   \n",
       "5779  80  Jul 13, 2005                Return to the Land of Wonders   \n",
       "5780  81  Sep 29, 2015                         A Plague So Pleasant   \n",
       "5781  82   Aug 5, 2005                            My Date With Drew   \n",
       "\n",
       "      production_budget  domestic_gross  worldwide_gross  net_income  \\\n",
       "0             425000000       760507625       2776345279  2351345279   \n",
       "1             410600000       241063875       1045663875   635063875   \n",
       "2             350000000        42762350        149762350  -200237650   \n",
       "3             330600000       459005868       1403013963  1072413963   \n",
       "4             317000000       620181382       1316721747   999721747   \n",
       "...                 ...             ...              ...         ...   \n",
       "5777               7000               0                0       -7000   \n",
       "5778               6000           48482           240495      234495   \n",
       "5779               5000            1338             1338       -3662   \n",
       "5780               1400               0                0       -1400   \n",
       "5781               1100          181041           181041      179941   \n",
       "\n",
       "      foreign_gross  Profit Margin           ROI  Year Month  \n",
       "0        2015837654      84.692106    553.257713  2009   Dec  \n",
       "1         804600000      60.733080    154.667286  2011   May  \n",
       "2         107000000    -133.703598    -57.210757  2019   Jun  \n",
       "3         944008095      76.436443    324.384139  2015   May  \n",
       "4         696540365      75.925058    315.369636  2017   Dec  \n",
       "...             ...            ...           ...   ...   ...  \n",
       "5777              0       0.000000   -100.000000  2018   Dec  \n",
       "5778         192013      97.505146   3908.250000  1999   Apr  \n",
       "5779              0    -273.692078    -73.240000  2005   Jul  \n",
       "5780              0       0.000000   -100.000000  2015   Sep  \n",
       "5781              0      99.392403  16358.272727  2005   Aug  \n",
       "\n",
       "[5782 rows x 12 columns]"
      ]
     },
     "execution_count": 6,
     "metadata": {},
     "output_type": "execute_result"
    }
   ],
   "source": [
    "#creating finance calculations and formating numbers\n",
    "numbers = funds.copy()\n",
    "\n",
    "\n",
    "\n",
    "#funtion for cleaning\n",
    "def clean_a_money_column(df, series_title):\n",
    "    df[series_title] = df[series_title].str.replace('$','')\n",
    "    df[series_title] = df[series_title].str.replace(',','')\n",
    "    df[series_title] = pd.to_numeric(df[series_title])\n",
    "    return df\n",
    "\n",
    "\n",
    "\n",
    "#remove $ string\n",
    "numbers = clean_a_money_column(numbers,'worldwide_gross')\n",
    "numbers = clean_a_money_column(numbers,'domestic_gross')\n",
    "numbers = clean_a_money_column(numbers,'production_budget')\n",
    "\n",
    "\n",
    "\n",
    "# new column foreign_gross, Profit Margin, ROI\n",
    "numbers['net_income'] = numbers['worldwide_gross'] - numbers['production_budget']\n",
    "numbers['foreign_gross'] = numbers['worldwide_gross'] - numbers['domestic_gross']\n",
    "numbers['Profit Margin'] = (numbers['net_income']*100)/numbers['worldwide_gross']\n",
    "numbers.loc[numbers['Profit Margin'] == float('-inf'), 'Profit Margin'] = 0\n",
    "numbers['ROI'] = (numbers['net_income']) / numbers['production_budget'] * 100\n",
    "\n",
    "\n",
    "# new columns month and year \n",
    "numbers['Year'] = pd.to_numeric(numbers['release_date'].map(lambda x: x[-4:]))\n",
    "numbers['Month'] = numbers['release_date'].map(lambda x: x[:3])\n",
    "\n",
    "\n",
    "\n",
    "#check for dupes\n",
    "movie_dupes = pd.Series(numbers['movie'].value_counts())\n",
    "title_dupes = [movie_dupes.index[index] for index in list(range(len(movie_dupes))) if movie_dupes.values[index] > 1]\n",
    "numbers[numbers['movie'].isin(title_dupes)]\n",
    "\n",
    "numbers\n"
   ]
  },
  {
   "cell_type": "markdown",
   "metadata": {},
   "source": [
    "# Reading in IMDB's title.basics dataset"
   ]
  },
  {
   "cell_type": "code",
   "execution_count": 7,
   "metadata": {},
   "outputs": [
    {
     "data": {
      "text/html": [
       "<div>\n",
       "<style scoped>\n",
       "    .dataframe tbody tr th:only-of-type {\n",
       "        vertical-align: middle;\n",
       "    }\n",
       "\n",
       "    .dataframe tbody tr th {\n",
       "        vertical-align: top;\n",
       "    }\n",
       "\n",
       "    .dataframe thead th {\n",
       "        text-align: right;\n",
       "    }\n",
       "</style>\n",
       "<table border=\"1\" class=\"dataframe\">\n",
       "  <thead>\n",
       "    <tr style=\"text-align: right;\">\n",
       "      <th></th>\n",
       "      <th>movie</th>\n",
       "      <th>year</th>\n",
       "      <th>runtime_minutes</th>\n",
       "      <th>genres</th>\n",
       "    </tr>\n",
       "  </thead>\n",
       "  <tbody>\n",
       "    <tr>\n",
       "      <th>0</th>\n",
       "      <td>Sunghursh</td>\n",
       "      <td>2013</td>\n",
       "      <td>175.0</td>\n",
       "      <td>Action,Crime,Drama</td>\n",
       "    </tr>\n",
       "    <tr>\n",
       "      <th>1</th>\n",
       "      <td>One Day Before the Rainy Season</td>\n",
       "      <td>2019</td>\n",
       "      <td>114.0</td>\n",
       "      <td>Biography,Drama</td>\n",
       "    </tr>\n",
       "    <tr>\n",
       "      <th>2</th>\n",
       "      <td>The Other Side of the Wind</td>\n",
       "      <td>2018</td>\n",
       "      <td>122.0</td>\n",
       "      <td>Drama</td>\n",
       "    </tr>\n",
       "    <tr>\n",
       "      <th>3</th>\n",
       "      <td>Sabse Bada Sukh</td>\n",
       "      <td>2018</td>\n",
       "      <td>NaN</td>\n",
       "      <td>Comedy,Drama</td>\n",
       "    </tr>\n",
       "    <tr>\n",
       "      <th>4</th>\n",
       "      <td>The Wandering Soap Opera</td>\n",
       "      <td>2017</td>\n",
       "      <td>80.0</td>\n",
       "      <td>Comedy,Drama,Fantasy</td>\n",
       "    </tr>\n",
       "    <tr>\n",
       "      <th>...</th>\n",
       "      <td>...</td>\n",
       "      <td>...</td>\n",
       "      <td>...</td>\n",
       "      <td>...</td>\n",
       "    </tr>\n",
       "    <tr>\n",
       "      <th>146139</th>\n",
       "      <td>Kuambil Lagi Hatiku</td>\n",
       "      <td>2019</td>\n",
       "      <td>123.0</td>\n",
       "      <td>Drama</td>\n",
       "    </tr>\n",
       "    <tr>\n",
       "      <th>146140</th>\n",
       "      <td>Rodolpho Teóphilo - O Legado de um Pioneiro</td>\n",
       "      <td>2015</td>\n",
       "      <td>NaN</td>\n",
       "      <td>Documentary</td>\n",
       "    </tr>\n",
       "    <tr>\n",
       "      <th>146141</th>\n",
       "      <td>Dankyavar Danka</td>\n",
       "      <td>2013</td>\n",
       "      <td>NaN</td>\n",
       "      <td>Comedy</td>\n",
       "    </tr>\n",
       "    <tr>\n",
       "      <th>146142</th>\n",
       "      <td>6 Gunn</td>\n",
       "      <td>2017</td>\n",
       "      <td>116.0</td>\n",
       "      <td>None</td>\n",
       "    </tr>\n",
       "    <tr>\n",
       "      <th>146143</th>\n",
       "      <td>Chico Albuquerque - Revelações</td>\n",
       "      <td>2013</td>\n",
       "      <td>NaN</td>\n",
       "      <td>Documentary</td>\n",
       "    </tr>\n",
       "  </tbody>\n",
       "</table>\n",
       "<p>146144 rows × 4 columns</p>\n",
       "</div>"
      ],
      "text/plain": [
       "                                              movie  year  runtime_minutes  \\\n",
       "0                                         Sunghursh  2013            175.0   \n",
       "1                   One Day Before the Rainy Season  2019            114.0   \n",
       "2                        The Other Side of the Wind  2018            122.0   \n",
       "3                                   Sabse Bada Sukh  2018              NaN   \n",
       "4                          The Wandering Soap Opera  2017             80.0   \n",
       "...                                             ...   ...              ...   \n",
       "146139                          Kuambil Lagi Hatiku  2019            123.0   \n",
       "146140  Rodolpho Teóphilo - O Legado de um Pioneiro  2015              NaN   \n",
       "146141                              Dankyavar Danka  2013              NaN   \n",
       "146142                                       6 Gunn  2017            116.0   \n",
       "146143               Chico Albuquerque - Revelações  2013              NaN   \n",
       "\n",
       "                      genres  \n",
       "0         Action,Crime,Drama  \n",
       "1            Biography,Drama  \n",
       "2                      Drama  \n",
       "3               Comedy,Drama  \n",
       "4       Comedy,Drama,Fantasy  \n",
       "...                      ...  \n",
       "146139                 Drama  \n",
       "146140           Documentary  \n",
       "146141                Comedy  \n",
       "146142                  None  \n",
       "146143           Documentary  \n",
       "\n",
       "[146144 rows x 4 columns]"
      ]
     },
     "execution_count": 7,
     "metadata": {},
     "output_type": "execute_result"
    }
   ],
   "source": [
    "#creating variable for movie basics table query, convertig sql into pandas df\n",
    "genetime = pd.read_sql(\"\"\"\n",
    "\n",
    "SELECT primary_title as movie, start_year as year, runtime_minutes, genres\n",
    "FROM\n",
    "\n",
    "movie_basics\n",
    "\n",
    "\"\"\", conn)\n",
    "\n",
    "genetime"
   ]
  },
  {
   "cell_type": "code",
   "execution_count": 8,
   "metadata": {},
   "outputs": [],
   "source": [
    "#creating a variable for merging the im.bd query with the movie budgets data set\n",
    "combined_df = numbers.merge(genetime)\n"
   ]
  },
  {
   "cell_type": "code",
   "execution_count": 9,
   "metadata": {},
   "outputs": [
    {
     "data": {
      "text/plain": [
       "id                     0\n",
       "release_date           0\n",
       "movie                  0\n",
       "production_budget      0\n",
       "domestic_gross         0\n",
       "worldwide_gross        0\n",
       "net_income             0\n",
       "foreign_gross          0\n",
       "Profit Margin          0\n",
       "ROI                    0\n",
       "Year                   0\n",
       "Month                  0\n",
       "year                   0\n",
       "runtime_minutes      487\n",
       "genres                72\n",
       "dtype: int64"
      ]
     },
     "execution_count": 9,
     "metadata": {},
     "output_type": "execute_result"
    }
   ],
   "source": [
    "#checking for missing data\n",
    "combined_df.isna().sum()"
   ]
  },
  {
   "cell_type": "code",
   "execution_count": 10,
   "metadata": {
    "scrolled": true
   },
   "outputs": [
    {
     "data": {
      "text/plain": [
       "id                   0\n",
       "release_date         0\n",
       "movie                0\n",
       "production_budget    0\n",
       "domestic_gross       0\n",
       "worldwide_gross      0\n",
       "net_income           0\n",
       "foreign_gross        0\n",
       "Profit Margin        0\n",
       "ROI                  0\n",
       "Year                 0\n",
       "Month                0\n",
       "year                 0\n",
       "runtime_minutes      0\n",
       "genres               0\n",
       "dtype: int64"
      ]
     },
     "execution_count": 10,
     "metadata": {},
     "output_type": "execute_result"
    }
   ],
   "source": [
    "# creating a new variable after dropping missing data\n",
    "clean_df = combined_df.dropna(subset=['runtime_minutes', 'genres'])\n",
    "clean_df.isna().sum(\n"
   ]
  },
  {
   "cell_type": "code",
   "execution_count": null,
   "metadata": {},
   "outputs": [],
   "source": []
  },
  {
   "cell_type": "code",
   "execution_count": 11,
   "metadata": {},
   "outputs": [
    {
     "data": {
      "image/png": "[encoded data removed]",
      "text/plain": [
       "<Figure size 576x576 with 1 Axes>"
      ]
     },
     "metadata": {
      "needs_background": "light"
     },
     "output_type": "display_data"
    }
   ],
   "source": [
    "#chart to examine the difference between foreign and domestic gross\n",
    "'Worldwide & Domestic Gross Related to Production Budget',\n",
    "# set up figure convert to millions\n",
    "def million_formatter(x, pos):\n",
    "    return \"%.1f M\" % (x/1E6)\n",
    "fig, ax = plt.subplots(figsize=(8,8), sharey=True)\n",
    "# green dots/line will be ww gross as a function of production_budget\n",
    "ax1 = sns.regplot(data=numbers, x='production_budget',\n",
    "                 y='worldwide_gross', color='green',marker='*', label='worldwide_gross')\n",
    "# blue dots/line will be foreign_gross gross as a function of production_budget\n",
    "ax2 = sns.regplot(data=numbers, x='production_budget',\n",
    "                 y='foreign_gross', color='blue',marker='o', label='foreign_gross')\n",
    "# red dots/line will be domestic_gross as a function of production_budget\n",
    "ax2 = sns.regplot(data=numbers, x='production_budget',\n",
    "                 y='domestic_gross', color='red',marker='^', label='domestic_gross')\n",
    "# include a legend\n",
    "ax.legend()\n",
    "# set title and axis labels\n",
    "ax.set(title='Worldwide Foreign Domestic Gross Related to Budget',\n",
    "      xlabel='Production Budget (USD)',\n",
    "      ylabel = 'Millions of Dollars')\n",
    "ax.xaxis.set_major_formatter(million_formatter)\n",
    "ax.yaxis.set_major_formatter(million_formatter)"
   ]
  },
  {
   "cell_type": "code",
   "execution_count": 12,
   "metadata": {},
   "outputs": [
    {
     "data": {
      "text/plain": [
       "['Adventure',\n",
       " 'Western',\n",
       " 'Drama',\n",
       " 'Musical',\n",
       " 'Fantasy',\n",
       " 'Music',\n",
       " 'Sci-Fi',\n",
       " 'Horror',\n",
       " 'Action',\n",
       " 'News',\n",
       " 'Family',\n",
       " 'Sport',\n",
       " 'Animation',\n",
       " 'Reality-TV',\n",
       " 'War',\n",
       " 'History',\n",
       " 'Crime',\n",
       " 'Mystery',\n",
       " 'Thriller',\n",
       " 'Romance',\n",
       " 'Documentary',\n",
       " 'Biography',\n",
       " 'Comedy']"
      ]
     },
     "execution_count": 12,
     "metadata": {},
     "output_type": "execute_result"
    }
   ],
   "source": [
    "#created a list to establish the single genres\n",
    "gs = []\n",
    "genlist = clean_df['genres'].str.split(',')\n",
    "\n",
    "for things in genlist:\n",
    "    gs.extend(things)\n",
    "ugs = set(gs)\n",
    "ugs\n",
    "\n",
    "list(ugs)"
   ]
  },
  {
   "cell_type": "markdown",
   "metadata": {},
   "source": [
    "### creating scatter plot to analyze runtime vs WWgross for each genre"
   ]
  },
  {
   "cell_type": "code",
   "execution_count": 13,
   "metadata": {},
   "outputs": [],
   "source": [
    "def generun(gene):\n",
    "    genre_fun = clean_df.loc[clean_df['genres'].str.contains(gene)]\n",
    "    fig, ax = plt.subplots(figsize=(10,10))\n",
    "    x = genre_fun['runtime_minutes']\n",
    "    y = genre_fun['worldwide_gross']\n",
    "    plt.ticklabel_format(style='plain')\n",
    "    ax.scatter(x,y)\n",
    "    ax.axvline(x.mean(), label='Mean', linestyle='--', color= 'Red')\n",
    "    ax.set_xlabel('runtime in minutes')\n",
    "    ax.set_ylabel('worldwide_gross')\n",
    "    ax.set_title(print(f'Runtime vs. WorldWide Gross for {gene}'));"
   ]
  },
  {
   "cell_type": "code",
   "execution_count": 14,
   "metadata": {},
   "outputs": [],
   "source": [
    "# copied over clean_df \n",
    "runtime_rec = clean_df"
   ]
  },
  {
   "cell_type": "markdown",
   "metadata": {},
   "source": [
    "## Adventure runtime Medians  \n",
    "##### creating below and above median from runtime orignal median for the top 5 genres"
   ]
  },
  {
   "cell_type": "code",
   "execution_count": 15,
   "metadata": {},
   "outputs": [],
   "source": [
    "genre_Ad = runtime_rec.loc[runtime_rec['genres'].str.contains('Adventure')]\n"
   ]
  },
  {
   "cell_type": "code",
   "execution_count": 16,
   "metadata": {},
   "outputs": [
    {
     "data": {
      "text/plain": [
       "104.0"
      ]
     },
     "execution_count": 16,
     "metadata": {},
     "output_type": "execute_result"
    }
   ],
   "source": [
    "genre_Ad_median = genre_Ad['runtime_minutes'].median()\n",
    "\n",
    "genre_Ad_median"
   ]
  },
  {
   "cell_type": "code",
   "execution_count": 17,
   "metadata": {},
   "outputs": [],
   "source": [
    "final_Ad_H = runtime_rec.loc[runtime_rec['runtime_minutes'] > genre_Ad_median]\n",
    "\n"
   ]
  },
  {
   "cell_type": "code",
   "execution_count": 18,
   "metadata": {},
   "outputs": [
    {
     "data": {
      "text/plain": [
       "50783138.0"
      ]
     },
     "execution_count": 18,
     "metadata": {},
     "output_type": "execute_result"
    }
   ],
   "source": [
    "H_Ad_med_gross = final_Ad_H['worldwide_gross'].median()\n",
    "H_Ad_med_gross\n",
    "\n"
   ]
  },
  {
   "cell_type": "code",
   "execution_count": 19,
   "metadata": {},
   "outputs": [],
   "source": [
    "final_Ad_L = runtime_rec.loc[runtime_rec['runtime_minutes'] < genre_Ad_median]\n"
   ]
  },
  {
   "cell_type": "code",
   "execution_count": 20,
   "metadata": {},
   "outputs": [
    {
     "data": {
      "text/plain": [
       "17023121.0"
      ]
     },
     "execution_count": 20,
     "metadata": {},
     "output_type": "execute_result"
    }
   ],
   "source": [
    "# Adventure below runtime median\n",
    "L_Ad_med_gross = final_Ad_L['worldwide_gross'].median()\n",
    "L_Ad_med_gross"
   ]
  },
  {
   "cell_type": "code",
   "execution_count": null,
   "metadata": {},
   "outputs": [],
   "source": []
  },
  {
   "cell_type": "markdown",
   "metadata": {},
   "source": [
    "# Action runtime Medians "
   ]
  },
  {
   "cell_type": "code",
   "execution_count": 21,
   "metadata": {},
   "outputs": [],
   "source": [
    "genre_Action = runtime_rec.loc[runtime_rec['genres'].str.contains('Action')]\n"
   ]
  },
  {
   "cell_type": "code",
   "execution_count": 22,
   "metadata": {},
   "outputs": [
    {
     "data": {
      "text/plain": [
       "107.0"
      ]
     },
     "execution_count": 22,
     "metadata": {},
     "output_type": "execute_result"
    }
   ],
   "source": [
    "genre_Action_median = genre_Action['runtime_minutes'].median()\n",
    "\n",
    "genre_Action_median"
   ]
  },
  {
   "cell_type": "code",
   "execution_count": 23,
   "metadata": {},
   "outputs": [],
   "source": [
    "final_Action_H = runtime_rec.loc[runtime_rec['runtime_minutes'] > genre_Action_median]"
   ]
  },
  {
   "cell_type": "code",
   "execution_count": 24,
   "metadata": {},
   "outputs": [
    {
     "data": {
      "text/plain": [
       "50783138.0"
      ]
     },
     "execution_count": 24,
     "metadata": {},
     "output_type": "execute_result"
    }
   ],
   "source": [
    "H_Action_med_gross = final_Ad_H['worldwide_gross'].median()\n",
    "H_Action_med_gross\n"
   ]
  },
  {
   "cell_type": "code",
   "execution_count": 25,
   "metadata": {},
   "outputs": [],
   "source": [
    "final_Action_L = runtime_rec.loc[runtime_rec['runtime_minutes'] < genre_Action_median]"
   ]
  },
  {
   "cell_type": "code",
   "execution_count": 26,
   "metadata": {},
   "outputs": [
    {
     "data": {
      "text/plain": [
       "17856688.0"
      ]
     },
     "execution_count": 26,
     "metadata": {},
     "output_type": "execute_result"
    }
   ],
   "source": [
    "# action below runtime median\n",
    "L_Action_med_gross = final_Action_L['worldwide_gross'].median()\n",
    "L_Action_med_gross"
   ]
  },
  {
   "cell_type": "code",
   "execution_count": null,
   "metadata": {},
   "outputs": [],
   "source": []
  },
  {
   "cell_type": "markdown",
   "metadata": {},
   "source": [
    "# Sci_Fi runtime Medians"
   ]
  },
  {
   "cell_type": "code",
   "execution_count": 27,
   "metadata": {},
   "outputs": [],
   "source": [
    "genre_Sci_fi = runtime_rec.loc[runtime_rec['genres'].str.contains('Sci-Fi')]"
   ]
  },
  {
   "cell_type": "code",
   "execution_count": 28,
   "metadata": {},
   "outputs": [
    {
     "data": {
      "text/plain": [
       "106.0"
      ]
     },
     "execution_count": 28,
     "metadata": {},
     "output_type": "execute_result"
    }
   ],
   "source": [
    "genre_Sci_fi_median = genre_Sci_fi['runtime_minutes'].median()\n",
    "\n",
    "genre_Sci_fi_median"
   ]
  },
  {
   "cell_type": "code",
   "execution_count": 29,
   "metadata": {},
   "outputs": [],
   "source": [
    "final_Sci_fi_H = runtime_rec.loc[runtime_rec['runtime_minutes'] > genre_Sci_fi_median]"
   ]
  },
  {
   "cell_type": "code",
   "execution_count": 30,
   "metadata": {},
   "outputs": [
    {
     "data": {
      "text/plain": [
       "54462971.0"
      ]
     },
     "execution_count": 30,
     "metadata": {},
     "output_type": "execute_result"
    }
   ],
   "source": [
    "H_Sci_fi_med_gross = final_Sci_fi_H['worldwide_gross'].median()\n",
    "H_Sci_fi_med_gross"
   ]
  },
  {
   "cell_type": "code",
   "execution_count": 31,
   "metadata": {},
   "outputs": [],
   "source": [
    "final_Sci_fi_L = runtime_rec.loc[runtime_rec['runtime_minutes'] < genre_Sci_fi_median]"
   ]
  },
  {
   "cell_type": "code",
   "execution_count": 32,
   "metadata": {},
   "outputs": [
    {
     "data": {
      "text/plain": [
       "17549645.0"
      ]
     },
     "execution_count": 32,
     "metadata": {},
     "output_type": "execute_result"
    }
   ],
   "source": [
    "# Sci fi below runtime median\n",
    "L_Sci_fi_med_gross = final_Sci_fi_L['worldwide_gross'].median()\n",
    "L_Sci_fi_med_gross"
   ]
  },
  {
   "cell_type": "markdown",
   "metadata": {},
   "source": [
    "# Animaiton runtime medians"
   ]
  },
  {
   "cell_type": "code",
   "execution_count": 33,
   "metadata": {},
   "outputs": [],
   "source": [
    "genre_ann = runtime_rec.loc[runtime_rec['genres'].str.contains('Animation')]"
   ]
  },
  {
   "cell_type": "code",
   "execution_count": 34,
   "metadata": {},
   "outputs": [
    {
     "data": {
      "text/plain": [
       "93.0"
      ]
     },
     "execution_count": 34,
     "metadata": {},
     "output_type": "execute_result"
    }
   ],
   "source": [
    "genre_ann_median = genre_ann['runtime_minutes'].median()\n",
    "\n",
    "genre_ann_median"
   ]
  },
  {
   "cell_type": "code",
   "execution_count": 35,
   "metadata": {},
   "outputs": [],
   "source": [
    "final_ann_H = runtime_rec.loc[runtime_rec['runtime_minutes'] > genre_ann_median]"
   ]
  },
  {
   "cell_type": "code",
   "execution_count": 37,
   "metadata": {},
   "outputs": [
    {
     "data": {
      "text/plain": [
       "38733717.5"
      ]
     },
     "execution_count": 37,
     "metadata": {},
     "output_type": "execute_result"
    }
   ],
   "source": [
    "H_ann_med_gross = final_ann_H['worldwide_gross'].median()\n",
    "H_ann_med_gross"
   ]
  },
  {
   "cell_type": "code",
   "execution_count": 38,
   "metadata": {},
   "outputs": [],
   "source": [
    "final_ann_L = runtime_rec.loc[runtime_rec['runtime_minutes'] < genre_ann_median]"
   ]
  },
  {
   "cell_type": "code",
   "execution_count": 39,
   "metadata": {},
   "outputs": [
    {
     "data": {
      "text/plain": [
       "15471969.0"
      ]
     },
     "execution_count": 39,
     "metadata": {},
     "output_type": "execute_result"
    }
   ],
   "source": [
    "# animation below runtime median\n",
    "L_ann_med_gross = final_ann_L['worldwide_gross'].median()\n",
    "L_ann_med_gross"
   ]
  },
  {
   "cell_type": "code",
   "execution_count": null,
   "metadata": {},
   "outputs": [],
   "source": []
  },
  {
   "cell_type": "markdown",
   "metadata": {},
   "source": [
    "# Fantasy runtime medians"
   ]
  },
  {
   "cell_type": "code",
   "execution_count": 40,
   "metadata": {},
   "outputs": [],
   "source": [
    "genre_fan = runtime_rec.loc[runtime_rec['genres'].str.contains('Fantasy')]"
   ]
  },
  {
   "cell_type": "code",
   "execution_count": 41,
   "metadata": {},
   "outputs": [
    {
     "data": {
      "text/plain": [
       "107.0"
      ]
     },
     "execution_count": 41,
     "metadata": {},
     "output_type": "execute_result"
    }
   ],
   "source": [
    "genre_fan_median = genre_fan['runtime_minutes'].median()\n",
    "\n",
    "genre_fan_median"
   ]
  },
  {
   "cell_type": "code",
   "execution_count": 42,
   "metadata": {},
   "outputs": [],
   "source": [
    "final_fan_H = runtime_rec.loc[runtime_rec['runtime_minutes'] > genre_fan_median]"
   ]
  },
  {
   "cell_type": "code",
   "execution_count": 43,
   "metadata": {},
   "outputs": [
    {
     "data": {
      "text/plain": [
       "54539920.0"
      ]
     },
     "execution_count": 43,
     "metadata": {},
     "output_type": "execute_result"
    }
   ],
   "source": [
    "H_fan_med_gross = final_fan_H['worldwide_gross'].median()\n",
    "H_fan_med_gross"
   ]
  },
  {
   "cell_type": "code",
   "execution_count": 44,
   "metadata": {},
   "outputs": [],
   "source": [
    "final_fan_L = runtime_rec.loc[runtime_rec['runtime_minutes'] < genre_fan_median]"
   ]
  },
  {
   "cell_type": "code",
   "execution_count": 45,
   "metadata": {},
   "outputs": [
    {
     "data": {
      "text/plain": [
       "17856688.0"
      ]
     },
     "execution_count": 45,
     "metadata": {},
     "output_type": "execute_result"
    }
   ],
   "source": [
    "# fantasy below runtime median\n",
    "L_fan_med_gross = final_fan_L['worldwide_gross'].median()\n",
    "L_fan_med_gross"
   ]
  },
  {
   "cell_type": "code",
   "execution_count": 57,
   "metadata": {},
   "outputs": [],
   "source": [
    "# # List for above runtime median\n",
    "top_5_Above_rt = [H_fan_med_gross, H_ann_med_gross, H_Sci_fi_med_gross, H_Action_med_gross, H_Ad_med_gross]"
   ]
  },
  {
   "cell_type": "code",
   "execution_count": 58,
   "metadata": {},
   "outputs": [],
   "source": [
    "# List for below runtime median\n",
    "top_5_below_rt = [L_fan_med_gross, L_ann_med_gross, L_Sci_fi_med_gross, L_Action_med_gross, L_Ad_med_gross]"
   ]
  },
  {
   "cell_type": "code",
   "execution_count": 63,
   "metadata": {},
   "outputs": [
    {
     "name": "stdout",
     "output_type": "stream",
     "text": [
      "[17.856688, 15.471969, 17.549645, 17.856688, 17.023121]\n"
     ]
    }
   ],
   "source": [
    "top_5_below_rt_mil = [(x/1000000) for x in top_5_below_rt]\n",
    "print(top_5_below_rt_mil)"
   ]
  },
  {
   "cell_type": "code",
   "execution_count": 66,
   "metadata": {},
   "outputs": [
    {
     "name": "stdout",
     "output_type": "stream",
     "text": [
      "[54.53992, 38.7337175, 54.462971, 50.783138, 50.783138]\n"
     ]
    }
   ],
   "source": [
    "top_5_Above_rt_mil = [(x/1000000) for x in top_5_Above_rt]\n",
    "print(top_5_Above_rt_mil)"
   ]
  },
  {
   "cell_type": "markdown",
   "metadata": {},
   "source": [
    "# Visual for runtime median recommendation"
   ]
  },
  {
   "cell_type": "code",
   "execution_count": 73,
   "metadata": {},
   "outputs": [
    {
     "data": {
      "image/png": "[encoded data removed]",
      "text/plain": [
       "<Figure size 720x864 with 1 Axes>"
      ]
     },
     "metadata": {
      "needs_background": "light"
     },
     "output_type": "display_data"
    }
   ],
   "source": [
    "\n",
    "\n",
    "\n",
    "\n",
    "x_ticks_labels = ['Fantasy', 'Animation', 'Sci-Fi', 'Action', 'Adventure']\n",
    "\n",
    "x = x_ticks_labels\n",
    "\n",
    "\n",
    "\n",
    "X_axis = np.arange(len(x))\n",
    "\n",
    "plt.figure(figsize=(10,12))\n",
    "\n",
    "\n",
    "\n",
    "\n",
    "plt.bar(X_axis - .2, top_5_Above_rt_mil, color ='yellowgreen',\n",
    "        width = 0.4, label = 'Above Median Runtime' )\n",
    "plt.bar(X_axis + .2, top_5_below_rt_mil, color ='cornflowerblue',\n",
    "        width = 0.4, label = 'Below Median Runtime ' )\n",
    "plt.xlabel(\"Genre\")\n",
    "plt.ylabel(\"Median Global Gross Income ($ millions)\")\n",
    "plt.title(\"Global Gross Income Above vs Below Median Runtime\")\n",
    "plt.xticks(X_axis, x_ticks_labels)\n",
    "plt.legend()\n",
    "plt.ticklabel_format(style='plain', axis='y')\n",
    "\n",
    "plt.show();\n",
    "\n",
    "\n",
    "\n",
    "\n"
   ]
  },
  {
   "cell_type": "code",
   "execution_count": null,
   "metadata": {},
   "outputs": [],
   "source": []
  },
  {
   "cell_type": "code",
   "execution_count": null,
   "metadata": {},
   "outputs": [],
   "source": []
  },
  {
   "cell_type": "code",
   "execution_count": null,
   "metadata": {},
   "outputs": [],
   "source": []
  },
  {
   "cell_type": "markdown",
   "metadata": {},
   "source": [
    "# Genre Data Exploration "
   ]
  },
  {
   "cell_type": "code",
   "execution_count": 74,
   "metadata": {},
   "outputs": [
    {
     "name": "stdout",
     "output_type": "stream",
     "text": [
      "Runtime vs. WorldWide Gross for Adventure\n"
     ]
    },
    {
     "data": {
      "image/png": "[encoded data removed]",
      "text/plain": [
       "<Figure size 720x720 with 1 Axes>"
      ]
     },
     "metadata": {
      "needs_background": "light"
     },
     "output_type": "display_data"
    }
   ],
   "source": [
    "generun('Adventure')"
   ]
  },
  {
   "cell_type": "code",
   "execution_count": 75,
   "metadata": {
    "scrolled": false
   },
   "outputs": [
    {
     "name": "stdout",
     "output_type": "stream",
     "text": [
      "Runtime vs. WorldWide Gross for Animation\n"
     ]
    },
    {
     "data": {
      "image/png": "[encoded data removed]",
      "text/plain": [
       "<Figure size 720x720 with 1 Axes>"
      ]
     },
     "metadata": {
      "needs_background": "light"
     },
     "output_type": "display_data"
    }
   ],
   "source": [
    "generun('Animation')"
   ]
  },
  {
   "cell_type": "code",
   "execution_count": 76,
   "metadata": {},
   "outputs": [
    {
     "name": "stdout",
     "output_type": "stream",
     "text": [
      "Runtime vs. WorldWide Gross for Fantasy\n"
     ]
    },
    {
     "data": {
      "image/png": "[encoded data removed]",
      "text/plain": [
       "<Figure size 720x720 with 1 Axes>"
      ]
     },
     "metadata": {
      "needs_background": "light"
     },
     "output_type": "display_data"
    }
   ],
   "source": [
    "generun('Fantasy')"
   ]
  },
  {
   "cell_type": "code",
   "execution_count": 77,
   "metadata": {},
   "outputs": [
    {
     "name": "stdout",
     "output_type": "stream",
     "text": [
      "Runtime vs. WorldWide Gross for Action\n"
     ]
    },
    {
     "data": {
      "image/png": "[encoded data removed]",
      "text/plain": [
       "<Figure size 720x720 with 1 Axes>"
      ]
     },
     "metadata": {
      "needs_background": "light"
     },
     "output_type": "display_data"
    }
   ],
   "source": [
    "generun('Action')\n"
   ]
  },
  {
   "cell_type": "code",
   "execution_count": 78,
   "metadata": {},
   "outputs": [
    {
     "name": "stdout",
     "output_type": "stream",
     "text": [
      "Runtime vs. WorldWide Gross for Sci-Fi\n"
     ]
    },
    {
     "data": {
      "image/png": "[encoded data removed]",
      "text/plain": [
       "<Figure size 720x720 with 1 Axes>"
      ]
     },
     "metadata": {
      "needs_background": "light"
     },
     "output_type": "display_data"
    }
   ],
   "source": [
    "generun('Sci-Fi')"
   ]
  },
  {
   "cell_type": "code",
   "execution_count": null,
   "metadata": {},
   "outputs": [],
   "source": []
  },
  {
   "cell_type": "markdown",
   "metadata": {},
   "source": [
    "### Setting variable to sort by ROI for the graph"
   ]
  },
  {
   "cell_type": "code",
   "execution_count": 79,
   "metadata": {},
   "outputs": [],
   "source": [
    "roi_df = clean_df.sort_values(by='ROI', ascending=False)[50:]"
   ]
  },
  {
   "cell_type": "code",
   "execution_count": 80,
   "metadata": {},
   "outputs": [
    {
     "data": {
      "text/html": [
       "<div>\n",
       "<style scoped>\n",
       "    .dataframe tbody tr th:only-of-type {\n",
       "        vertical-align: middle;\n",
       "    }\n",
       "\n",
       "    .dataframe tbody tr th {\n",
       "        vertical-align: top;\n",
       "    }\n",
       "\n",
       "    .dataframe thead th {\n",
       "        text-align: right;\n",
       "    }\n",
       "</style>\n",
       "<table border=\"1\" class=\"dataframe\">\n",
       "  <thead>\n",
       "    <tr style=\"text-align: right;\">\n",
       "      <th></th>\n",
       "      <th>id</th>\n",
       "      <th>release_date</th>\n",
       "      <th>movie</th>\n",
       "      <th>production_budget</th>\n",
       "      <th>domestic_gross</th>\n",
       "      <th>worldwide_gross</th>\n",
       "      <th>net_income</th>\n",
       "      <th>foreign_gross</th>\n",
       "      <th>Profit Margin</th>\n",
       "      <th>ROI</th>\n",
       "      <th>Year</th>\n",
       "      <th>Month</th>\n",
       "      <th>year</th>\n",
       "      <th>runtime_minutes</th>\n",
       "      <th>genres</th>\n",
       "    </tr>\n",
       "  </thead>\n",
       "  <tbody>\n",
       "    <tr>\n",
       "      <th>2813</th>\n",
       "      <td>51</td>\n",
       "      <td>Oct 21, 2011</td>\n",
       "      <td>Paranormal Activity 3</td>\n",
       "      <td>5000000</td>\n",
       "      <td>104028807</td>\n",
       "      <td>207039844</td>\n",
       "      <td>202039844</td>\n",
       "      <td>103011037</td>\n",
       "      <td>97.585006</td>\n",
       "      <td>4040.796880</td>\n",
       "      <td>2011</td>\n",
       "      <td>Oct</td>\n",
       "      <td>2011</td>\n",
       "      <td>83.0</td>\n",
       "      <td>Horror,Mystery,Thriller</td>\n",
       "    </tr>\n",
       "    <tr>\n",
       "      <th>2715</th>\n",
       "      <td>84</td>\n",
       "      <td>Oct 3, 2014</td>\n",
       "      <td>Annabelle</td>\n",
       "      <td>6500000</td>\n",
       "      <td>84273813</td>\n",
       "      <td>256862920</td>\n",
       "      <td>250362920</td>\n",
       "      <td>172589107</td>\n",
       "      <td>97.469467</td>\n",
       "      <td>3851.737231</td>\n",
       "      <td>2014</td>\n",
       "      <td>Oct</td>\n",
       "      <td>2014</td>\n",
       "      <td>99.0</td>\n",
       "      <td>Horror,Mystery,Thriller</td>\n",
       "    </tr>\n",
       "    <tr>\n",
       "      <th>3346</th>\n",
       "      <td>15</td>\n",
       "      <td>Aug 27, 2010</td>\n",
       "      <td>The Last Exorcism</td>\n",
       "      <td>1800000</td>\n",
       "      <td>41034350</td>\n",
       "      <td>70165900</td>\n",
       "      <td>68365900</td>\n",
       "      <td>29131550</td>\n",
       "      <td>97.434651</td>\n",
       "      <td>3798.105556</td>\n",
       "      <td>2010</td>\n",
       "      <td>Aug</td>\n",
       "      <td>2010</td>\n",
       "      <td>87.0</td>\n",
       "      <td>Drama,Horror,Thriller</td>\n",
       "    </tr>\n",
       "    <tr>\n",
       "      <th>955</th>\n",
       "      <td>68</td>\n",
       "      <td>Feb 9, 1940</td>\n",
       "      <td>Pinocchio</td>\n",
       "      <td>2289247</td>\n",
       "      <td>84300000</td>\n",
       "      <td>84300000</td>\n",
       "      <td>82010753</td>\n",
       "      <td>0</td>\n",
       "      <td>97.284405</td>\n",
       "      <td>3582.433569</td>\n",
       "      <td>1940</td>\n",
       "      <td>Feb</td>\n",
       "      <td>2015</td>\n",
       "      <td>75.0</td>\n",
       "      <td>Documentary</td>\n",
       "    </tr>\n",
       "    <tr>\n",
       "      <th>953</th>\n",
       "      <td>68</td>\n",
       "      <td>Feb 9, 1940</td>\n",
       "      <td>Pinocchio</td>\n",
       "      <td>2289247</td>\n",
       "      <td>84300000</td>\n",
       "      <td>84300000</td>\n",
       "      <td>82010753</td>\n",
       "      <td>0</td>\n",
       "      <td>97.284405</td>\n",
       "      <td>3582.433569</td>\n",
       "      <td>1940</td>\n",
       "      <td>Feb</td>\n",
       "      <td>2012</td>\n",
       "      <td>75.0</td>\n",
       "      <td>Animation,Family,Fantasy</td>\n",
       "    </tr>\n",
       "    <tr>\n",
       "      <th>...</th>\n",
       "      <td>...</td>\n",
       "      <td>...</td>\n",
       "      <td>...</td>\n",
       "      <td>...</td>\n",
       "      <td>...</td>\n",
       "      <td>...</td>\n",
       "      <td>...</td>\n",
       "      <td>...</td>\n",
       "      <td>...</td>\n",
       "      <td>...</td>\n",
       "      <td>...</td>\n",
       "      <td>...</td>\n",
       "      <td>...</td>\n",
       "      <td>...</td>\n",
       "      <td>...</td>\n",
       "    </tr>\n",
       "    <tr>\n",
       "      <th>247</th>\n",
       "      <td>56</td>\n",
       "      <td>Jun 5, 2009</td>\n",
       "      <td>Home</td>\n",
       "      <td>12000000</td>\n",
       "      <td>0</td>\n",
       "      <td>0</td>\n",
       "      <td>-12000000</td>\n",
       "      <td>0</td>\n",
       "      <td>0.000000</td>\n",
       "      <td>-100.000000</td>\n",
       "      <td>2009</td>\n",
       "      <td>Jun</td>\n",
       "      <td>2015</td>\n",
       "      <td>4.0</td>\n",
       "      <td>Drama</td>\n",
       "    </tr>\n",
       "    <tr>\n",
       "      <th>248</th>\n",
       "      <td>56</td>\n",
       "      <td>Jun 5, 2009</td>\n",
       "      <td>Home</td>\n",
       "      <td>12000000</td>\n",
       "      <td>0</td>\n",
       "      <td>0</td>\n",
       "      <td>-12000000</td>\n",
       "      <td>0</td>\n",
       "      <td>0.000000</td>\n",
       "      <td>-100.000000</td>\n",
       "      <td>2009</td>\n",
       "      <td>Jun</td>\n",
       "      <td>2015</td>\n",
       "      <td>58.0</td>\n",
       "      <td>Documentary</td>\n",
       "    </tr>\n",
       "    <tr>\n",
       "      <th>249</th>\n",
       "      <td>56</td>\n",
       "      <td>Jun 5, 2009</td>\n",
       "      <td>Home</td>\n",
       "      <td>12000000</td>\n",
       "      <td>0</td>\n",
       "      <td>0</td>\n",
       "      <td>-12000000</td>\n",
       "      <td>0</td>\n",
       "      <td>0.000000</td>\n",
       "      <td>-100.000000</td>\n",
       "      <td>2009</td>\n",
       "      <td>Jun</td>\n",
       "      <td>2017</td>\n",
       "      <td>35.0</td>\n",
       "      <td>Documentary,Family</td>\n",
       "    </tr>\n",
       "    <tr>\n",
       "      <th>250</th>\n",
       "      <td>56</td>\n",
       "      <td>Jun 5, 2009</td>\n",
       "      <td>Home</td>\n",
       "      <td>12000000</td>\n",
       "      <td>0</td>\n",
       "      <td>0</td>\n",
       "      <td>-12000000</td>\n",
       "      <td>0</td>\n",
       "      <td>0.000000</td>\n",
       "      <td>-100.000000</td>\n",
       "      <td>2009</td>\n",
       "      <td>Jun</td>\n",
       "      <td>2016</td>\n",
       "      <td>35.0</td>\n",
       "      <td>Animation,Documentary</td>\n",
       "    </tr>\n",
       "    <tr>\n",
       "      <th>3814</th>\n",
       "      <td>81</td>\n",
       "      <td>Sep 29, 2015</td>\n",
       "      <td>A Plague So Pleasant</td>\n",
       "      <td>1400</td>\n",
       "      <td>0</td>\n",
       "      <td>0</td>\n",
       "      <td>-1400</td>\n",
       "      <td>0</td>\n",
       "      <td>0.000000</td>\n",
       "      <td>-100.000000</td>\n",
       "      <td>2015</td>\n",
       "      <td>Sep</td>\n",
       "      <td>2013</td>\n",
       "      <td>76.0</td>\n",
       "      <td>Drama,Horror,Thriller</td>\n",
       "    </tr>\n",
       "  </tbody>\n",
       "</table>\n",
       "<p>3259 rows × 15 columns</p>\n",
       "</div>"
      ],
      "text/plain": [
       "      id  release_date                  movie  production_budget  \\\n",
       "2813  51  Oct 21, 2011  Paranormal Activity 3            5000000   \n",
       "2715  84   Oct 3, 2014              Annabelle            6500000   \n",
       "3346  15  Aug 27, 2010      The Last Exorcism            1800000   \n",
       "955   68   Feb 9, 1940              Pinocchio            2289247   \n",
       "953   68   Feb 9, 1940              Pinocchio            2289247   \n",
       "...   ..           ...                    ...                ...   \n",
       "247   56   Jun 5, 2009                   Home           12000000   \n",
       "248   56   Jun 5, 2009                   Home           12000000   \n",
       "249   56   Jun 5, 2009                   Home           12000000   \n",
       "250   56   Jun 5, 2009                   Home           12000000   \n",
       "3814  81  Sep 29, 2015   A Plague So Pleasant               1400   \n",
       "\n",
       "      domestic_gross  worldwide_gross  net_income  foreign_gross  \\\n",
       "2813       104028807        207039844   202039844      103011037   \n",
       "2715        84273813        256862920   250362920      172589107   \n",
       "3346        41034350         70165900    68365900       29131550   \n",
       "955         84300000         84300000    82010753              0   \n",
       "953         84300000         84300000    82010753              0   \n",
       "...              ...              ...         ...            ...   \n",
       "247                0                0   -12000000              0   \n",
       "248                0                0   -12000000              0   \n",
       "249                0                0   -12000000              0   \n",
       "250                0                0   -12000000              0   \n",
       "3814               0                0       -1400              0   \n",
       "\n",
       "      Profit Margin          ROI  Year Month  year  runtime_minutes  \\\n",
       "2813      97.585006  4040.796880  2011   Oct  2011             83.0   \n",
       "2715      97.469467  3851.737231  2014   Oct  2014             99.0   \n",
       "3346      97.434651  3798.105556  2010   Aug  2010             87.0   \n",
       "955       97.284405  3582.433569  1940   Feb  2015             75.0   \n",
       "953       97.284405  3582.433569  1940   Feb  2012             75.0   \n",
       "...             ...          ...   ...   ...   ...              ...   \n",
       "247        0.000000  -100.000000  2009   Jun  2015              4.0   \n",
       "248        0.000000  -100.000000  2009   Jun  2015             58.0   \n",
       "249        0.000000  -100.000000  2009   Jun  2017             35.0   \n",
       "250        0.000000  -100.000000  2009   Jun  2016             35.0   \n",
       "3814       0.000000  -100.000000  2015   Sep  2013             76.0   \n",
       "\n",
       "                        genres  \n",
       "2813   Horror,Mystery,Thriller  \n",
       "2715   Horror,Mystery,Thriller  \n",
       "3346     Drama,Horror,Thriller  \n",
       "955                Documentary  \n",
       "953   Animation,Family,Fantasy  \n",
       "...                        ...  \n",
       "247                      Drama  \n",
       "248                Documentary  \n",
       "249         Documentary,Family  \n",
       "250      Animation,Documentary  \n",
       "3814     Drama,Horror,Thriller  \n",
       "\n",
       "[3259 rows x 15 columns]"
      ]
     },
     "execution_count": 80,
     "metadata": {},
     "output_type": "execute_result"
    }
   ],
   "source": [
    "roi_df"
   ]
  },
  {
   "cell_type": "markdown",
   "metadata": {},
   "source": [
    "### DOING GRAPHS OF BUDGET TO ROI BY GENRE"
   ]
  },
  {
   "cell_type": "code",
   "execution_count": 81,
   "metadata": {
    "scrolled": false
   },
   "outputs": [],
   "source": [
    "#\n",
    "def genebudget(gene):\n",
    "    top_sort = roi_df.sort_values(by=['ROI'], ascending=False)[1:]\n",
    "    clean_df = top_sort.loc[top_sort['genres'].str.contains(gene)]\n",
    "    fig, ax = plt.subplots(figsize=(10,10))\n",
    "    y = clean_df['ROI']\n",
    "    x = clean_df['production_budget']\n",
    "    ax.scatter(x,y)\n",
    "    plt.ticklabel_format(style='plain')\n",
    "    ax.set_yticks([100, 500, 1000, 2000, 3000])\n",
    "    ax.set_xticks([10000000, 70000000, 150000000, 250000000])\n",
    "    ax.axvline(x.median(), label='Median', linestyle='--', color= 'Red')\n",
    "    ax.set_ylabel('ROI by percentage')\n",
    "    ax.set_xlabel('production budget 10MM - 250MM')\n",
    "    ax.set_title(print(f'budget - ROI comaprison for {gene}'))\n",
    "    "
   ]
  },
  {
   "cell_type": "code",
   "execution_count": 82,
   "metadata": {},
   "outputs": [
    {
     "name": "stdout",
     "output_type": "stream",
     "text": [
      "budget - ROI comaprison for Adventure\n"
     ]
    },
    {
     "data": {
      "image/png": "[encoded data removed]",
      "text/plain": [
       "<Figure size 720x720 with 1 Axes>"
      ]
     },
     "metadata": {
      "needs_background": "light"
     },
     "output_type": "display_data"
    }
   ],
   "source": [
    "genebudget('Adventure')"
   ]
  },
  {
   "cell_type": "code",
   "execution_count": 83,
   "metadata": {},
   "outputs": [
    {
     "name": "stdout",
     "output_type": "stream",
     "text": [
      "budget - ROI comaprison for Animation\n"
     ]
    },
    {
     "data": {
      "image/png": "[encoded data removed]",
      "text/plain": [
       "<Figure size 720x720 with 1 Axes>"
      ]
     },
     "metadata": {
      "needs_background": "light"
     },
     "output_type": "display_data"
    }
   ],
   "source": [
    "genebudget('Animation')"
   ]
  },
  {
   "cell_type": "code",
   "execution_count": 84,
   "metadata": {},
   "outputs": [
    {
     "name": "stdout",
     "output_type": "stream",
     "text": [
      "budget - ROI comaprison for Fantasy\n"
     ]
    },
    {
     "data": {
      "image/png": "[encoded data removed]",
      "text/plain": [
       "<Figure size 720x720 with 1 Axes>"
      ]
     },
     "metadata": {
      "needs_background": "light"
     },
     "output_type": "display_data"
    }
   ],
   "source": [
    "genebudget('Fantasy')"
   ]
  },
  {
   "cell_type": "code",
   "execution_count": 85,
   "metadata": {},
   "outputs": [
    {
     "name": "stdout",
     "output_type": "stream",
     "text": [
      "budget - ROI comaprison for Action\n"
     ]
    },
    {
     "data": {
      "image/png": "[encoded data removed]",
      "text/plain": [
       "<Figure size 720x720 with 1 Axes>"
      ]
     },
     "metadata": {
      "needs_background": "light"
     },
     "output_type": "display_data"
    }
   ],
   "source": [
    "\n",
    "genebudget('Action')"
   ]
  },
  {
   "cell_type": "code",
   "execution_count": 86,
   "metadata": {},
   "outputs": [
    {
     "name": "stdout",
     "output_type": "stream",
     "text": [
      "budget - ROI comaprison for Sci-Fi\n"
     ]
    },
    {
     "data": {
      "image/png": "[encoded data removed]",
      "text/plain": [
       "<Figure size 720x720 with 1 Axes>"
      ]
     },
     "metadata": {
      "needs_background": "light"
     },
     "output_type": "display_data"
    }
   ],
   "source": [
    "genebudget('Sci-Fi')"
   ]
  },
  {
   "cell_type": "code",
   "execution_count": null,
   "metadata": {},
   "outputs": [],
   "source": []
  },
  {
   "cell_type": "code",
   "execution_count": 88,
   "metadata": {},
   "outputs": [
    {
     "data": {
      "text/html": [
       "<div>\n",
       "<style scoped>\n",
       "    .dataframe tbody tr th:only-of-type {\n",
       "        vertical-align: middle;\n",
       "    }\n",
       "\n",
       "    .dataframe tbody tr th {\n",
       "        vertical-align: top;\n",
       "    }\n",
       "\n",
       "    .dataframe thead th {\n",
       "        text-align: right;\n",
       "    }\n",
       "</style>\n",
       "<table border=\"1\" class=\"dataframe\">\n",
       "  <thead>\n",
       "    <tr style=\"text-align: right;\">\n",
       "      <th></th>\n",
       "      <th>id</th>\n",
       "      <th>release_date</th>\n",
       "      <th>movie</th>\n",
       "      <th>production_budget</th>\n",
       "      <th>domestic_gross</th>\n",
       "      <th>worldwide_gross</th>\n",
       "      <th>net_income</th>\n",
       "      <th>foreign_gross</th>\n",
       "      <th>Profit Margin</th>\n",
       "      <th>ROI</th>\n",
       "      <th>Year</th>\n",
       "      <th>Month</th>\n",
       "      <th>year</th>\n",
       "      <th>runtime_minutes</th>\n",
       "      <th>genres</th>\n",
       "    </tr>\n",
       "  </thead>\n",
       "  <tbody>\n",
       "    <tr>\n",
       "      <th>2047</th>\n",
       "      <td>37</td>\n",
       "      <td>Oct 17, 1978</td>\n",
       "      <td>Halloween</td>\n",
       "      <td>325000</td>\n",
       "      <td>47000000</td>\n",
       "      <td>70000000</td>\n",
       "      <td>69675000</td>\n",
       "      <td>23000000</td>\n",
       "      <td>99.535714</td>\n",
       "      <td>21438.461538</td>\n",
       "      <td>1978</td>\n",
       "      <td>Oct</td>\n",
       "      <td>2018</td>\n",
       "      <td>106.0</td>\n",
       "      <td>Horror,Thriller</td>\n",
       "    </tr>\n",
       "    <tr>\n",
       "      <th>2965</th>\n",
       "      <td>77</td>\n",
       "      <td>Oct 1, 1968</td>\n",
       "      <td>Night of the Living Dead</td>\n",
       "      <td>114000</td>\n",
       "      <td>12087064</td>\n",
       "      <td>30087064</td>\n",
       "      <td>29973064</td>\n",
       "      <td>18000000</td>\n",
       "      <td>99.621100</td>\n",
       "      <td>26292.161404</td>\n",
       "      <td>1968</td>\n",
       "      <td>Oct</td>\n",
       "      <td>2014</td>\n",
       "      <td>79.0</td>\n",
       "      <td>Horror</td>\n",
       "    </tr>\n",
       "    <tr>\n",
       "      <th>3452</th>\n",
       "      <td>11</td>\n",
       "      <td>Nov 21, 1976</td>\n",
       "      <td>Rocky</td>\n",
       "      <td>1000000</td>\n",
       "      <td>117235147</td>\n",
       "      <td>225000000</td>\n",
       "      <td>224000000</td>\n",
       "      <td>107764853</td>\n",
       "      <td>99.555556</td>\n",
       "      <td>22400.000000</td>\n",
       "      <td>1976</td>\n",
       "      <td>Nov</td>\n",
       "      <td>2013</td>\n",
       "      <td>136.0</td>\n",
       "      <td>Action,Comedy,Drama</td>\n",
       "    </tr>\n",
       "    <tr>\n",
       "      <th>3535</th>\n",
       "      <td>47</td>\n",
       "      <td>Aug 13, 1942</td>\n",
       "      <td>Bambi</td>\n",
       "      <td>858000</td>\n",
       "      <td>102797000</td>\n",
       "      <td>268000000</td>\n",
       "      <td>267142000</td>\n",
       "      <td>165203000</td>\n",
       "      <td>99.679851</td>\n",
       "      <td>31135.431235</td>\n",
       "      <td>1942</td>\n",
       "      <td>Aug</td>\n",
       "      <td>2013</td>\n",
       "      <td>58.0</td>\n",
       "      <td>Biography,Documentary</td>\n",
       "    </tr>\n",
       "    <tr>\n",
       "      <th>3751</th>\n",
       "      <td>80</td>\n",
       "      <td>Jul 10, 2015</td>\n",
       "      <td>The Gallows</td>\n",
       "      <td>100000</td>\n",
       "      <td>22764410</td>\n",
       "      <td>41656474</td>\n",
       "      <td>41556474</td>\n",
       "      <td>18892064</td>\n",
       "      <td>99.759941</td>\n",
       "      <td>41556.474000</td>\n",
       "      <td>2015</td>\n",
       "      <td>Jul</td>\n",
       "      <td>2015</td>\n",
       "      <td>81.0</td>\n",
       "      <td>Horror,Mystery,Thriller</td>\n",
       "    </tr>\n",
       "  </tbody>\n",
       "</table>\n",
       "</div>"
      ],
      "text/plain": [
       "      id  release_date                     movie  production_budget  \\\n",
       "2047  37  Oct 17, 1978                 Halloween             325000   \n",
       "2965  77   Oct 1, 1968  Night of the Living Dead             114000   \n",
       "3452  11  Nov 21, 1976                     Rocky            1000000   \n",
       "3535  47  Aug 13, 1942                     Bambi             858000   \n",
       "3751  80  Jul 10, 2015               The Gallows             100000   \n",
       "\n",
       "      domestic_gross  worldwide_gross  net_income  foreign_gross  \\\n",
       "2047        47000000         70000000    69675000       23000000   \n",
       "2965        12087064         30087064    29973064       18000000   \n",
       "3452       117235147        225000000   224000000      107764853   \n",
       "3535       102797000        268000000   267142000      165203000   \n",
       "3751        22764410         41656474    41556474       18892064   \n",
       "\n",
       "      Profit Margin           ROI  Year Month  year  runtime_minutes  \\\n",
       "2047      99.535714  21438.461538  1978   Oct  2018            106.0   \n",
       "2965      99.621100  26292.161404  1968   Oct  2014             79.0   \n",
       "3452      99.555556  22400.000000  1976   Nov  2013            136.0   \n",
       "3535      99.679851  31135.431235  1942   Aug  2013             58.0   \n",
       "3751      99.759941  41556.474000  2015   Jul  2015             81.0   \n",
       "\n",
       "                       genres  \n",
       "2047          Horror,Thriller  \n",
       "2965                   Horror  \n",
       "3452      Action,Comedy,Drama  \n",
       "3535    Biography,Documentary  \n",
       "3751  Horror,Mystery,Thriller  "
      ]
     },
     "execution_count": 88,
     "metadata": {},
     "output_type": "execute_result"
    }
   ],
   "source": [
    "clean_df.loc[clean_df['ROI'] > 20000]"
   ]
  },
  {
   "cell_type": "code",
   "execution_count": 89,
   "metadata": {
    "scrolled": false
   },
   "outputs": [
    {
     "name": "stdout",
     "output_type": "stream",
     "text": [
      "budget - ROI comaprison for Romance\n"
     ]
    },
    {
     "data": {
      "image/png": "[encoded data removed]",
      "text/plain": [
       "<Figure size 720x720 with 1 Axes>"
      ]
     },
     "metadata": {
      "needs_background": "light"
     },
     "output_type": "display_data"
    }
   ],
   "source": [
    "genebudget('Romance')"
   ]
  },
  {
   "cell_type": "code",
   "execution_count": null,
   "metadata": {},
   "outputs": [],
   "source": []
  },
  {
   "cell_type": "code",
   "execution_count": null,
   "metadata": {},
   "outputs": [],
   "source": []
  },
  {
   "cell_type": "code",
   "execution_count": null,
   "metadata": {},
   "outputs": [],
   "source": []
  },
  {
   "cell_type": "code",
   "execution_count": 90,
   "metadata": {},
   "outputs": [],
   "source": [
    "#individual code for merging tables, expliding for individual genres"
   ]
  },
  {
   "cell_type": "code",
   "execution_count": 91,
   "metadata": {},
   "outputs": [],
   "source": [
    "run_time = pd.read_sql(\"\"\"\n",
    "select *\n",
    "from movie_basics\n",
    "\"\"\", conn)"
   ]
  },
  {
   "cell_type": "code",
   "execution_count": 92,
   "metadata": {},
   "outputs": [],
   "source": [
    "run_time['genres_list'] = run_time['genres'].str.split(',')"
   ]
  },
  {
   "cell_type": "code",
   "execution_count": 93,
   "metadata": {},
   "outputs": [],
   "source": [
    "single_genres = run_time.explode('genres_list')"
   ]
  },
  {
   "cell_type": "code",
   "execution_count": 94,
   "metadata": {},
   "outputs": [],
   "source": [
    "num_genre_join = numbers.merge(single_genres, left_on='movie', right_on='primary_title')"
   ]
  },
  {
   "cell_type": "code",
   "execution_count": 95,
   "metadata": {},
   "outputs": [],
   "source": [
    "#createing a variable to get the mean of the world wide gross for each genre\n",
    "num_genre_group_mean_WWG = num_genre_join.groupby('genres_list')['worldwide_gross'].median()"
   ]
  },
  {
   "cell_type": "code",
   "execution_count": 96,
   "metadata": {},
   "outputs": [
    {
     "data": {
      "image/png": "[encoded data removed]",
      "text/plain": [
       "<Figure size 432x288 with 1 Axes>"
      ]
     },
     "metadata": {
      "needs_background": "light"
     },
     "output_type": "display_data"
    }
   ],
   "source": [
    "#table to demonstrate the top genres by wwgross median\n",
    "num_genre_group_mean_WWG.plot(kind='bar', title ='Wolrdwide meadian Gross Income by Movie Genre', ylabel='Gross Income', xlabel='Genre');"
   ]
  },
  {
   "cell_type": "code",
   "execution_count": 97,
   "metadata": {},
   "outputs": [
    {
     "data": {
      "text/plain": [
       "genres_list\n",
       "Animation    194503502.0\n",
       "Adventure    150977672.0\n",
       "Fantasy       84227013.0\n",
       "Action        73249137.5\n",
       "Musical       61031932.0\n",
       "Sci-Fi        53424681.0\n",
       "Name: worldwide_gross, dtype: float64"
      ]
     },
     "execution_count": 97,
     "metadata": {},
     "output_type": "execute_result"
    }
   ],
   "source": [
    "#sorting values of mean worldwide gross grouped by genre\n",
    "num_genre_group_mean_WWG.sort_values(ascending=False).head(6)"
   ]
  },
  {
   "cell_type": "code",
   "execution_count": 98,
   "metadata": {},
   "outputs": [],
   "source": [
    "#createing a variable to get the mean of the world wide gross for each genre\n",
    "num_genre_production = num_genre_join.groupby('genres_list')['production_budget'].median()\n",
    "sort_production = num_genre_production.sort_values(ascending=False)"
   ]
  },
  {
   "cell_type": "code",
   "execution_count": 99,
   "metadata": {},
   "outputs": [
    {
     "data": {
      "image/png": "[encoded data removed]",
      "text/plain": [
       "<Figure size 432x288 with 1 Axes>"
      ]
     },
     "metadata": {
      "needs_background": "light"
     },
     "output_type": "display_data"
    }
   ],
   "source": [
    "#table to demonstrate the top genres by wwgross median\n",
    "sort_production.plot(kind='bar', title ='Wolrdwide meadian Gross Income by Movie Genre', ylabel='Gross Income', xlabel='Genre');\n"
   ]
  },
  {
   "cell_type": "code",
   "execution_count": 100,
   "metadata": {},
   "outputs": [],
   "source": [
    "# Market selection on Genres"
   ]
  },
  {
   "cell_type": "code",
   "execution_count": 101,
   "metadata": {},
   "outputs": [],
   "source": [
    "gen_list_med = num_genre_join.groupby('genres_list').median()"
   ]
  },
  {
   "cell_type": "code",
   "execution_count": 102,
   "metadata": {},
   "outputs": [
    {
     "data": {
      "text/plain": [
       "genres_list\n",
       "Action          34657447.0\n",
       "Adventure       85523894.0\n",
       "Animation      104810579.0\n",
       "Biography        8241985.0\n",
       "Comedy          13083952.0\n",
       "Crime            8017344.5\n",
       "Documentary      3795236.0\n",
       "Drama            4796664.0\n",
       "Family          12522149.5\n",
       "Fantasy         42367409.5\n",
       "History         11705292.0\n",
       "Horror           5793429.0\n",
       "Music            2769933.0\n",
       "Musical         22513319.0\n",
       "Mystery         11353097.0\n",
       "News            40000000.0\n",
       "Reality-TV             0.0\n",
       "Romance          5547931.0\n",
       "Sci-Fi          21503654.0\n",
       "Sport            1357632.0\n",
       "Thriller         7551757.0\n",
       "War              4357174.0\n",
       "Western          1616726.0\n",
       "Name: foreign_gross, dtype: float64"
      ]
     },
     "execution_count": 102,
     "metadata": {},
     "output_type": "execute_result"
    }
   ],
   "source": [
    "gen_list_med_foreign = gen_list_med['foreign_gross']\n",
    "gen_list_med_foreign"
   ]
  },
  {
   "cell_type": "code",
   "execution_count": 103,
   "metadata": {},
   "outputs": [
    {
     "data": {
      "text/plain": [
       "genres_list\n",
       "Action         32754514.0\n",
       "Adventure      58243820.5\n",
       "Animation      83295507.0\n",
       "Biography      14221212.5\n",
       "Comedy         23388906.0\n",
       "Crime          13216983.5\n",
       "Documentary     7316658.0\n",
       "Drama           9427026.0\n",
       "Family         29238981.5\n",
       "Fantasy        37381278.5\n",
       "History         9161542.5\n",
       "Horror         11107431.0\n",
       "Music          11862398.0\n",
       "Musical        38322743.0\n",
       "Mystery        15821461.0\n",
       "News           15716828.0\n",
       "Reality-TV            0.0\n",
       "Romance        11998985.0\n",
       "Sci-Fi         27447471.0\n",
       "Sport          11242801.0\n",
       "Thriller       14015307.0\n",
       "War             4200117.0\n",
       "Western         1686429.0\n",
       "Name: domestic_gross, dtype: float64"
      ]
     },
     "execution_count": 103,
     "metadata": {},
     "output_type": "execute_result"
    }
   ],
   "source": [
    "# created a variable to calculate te domestic gross medians listed by genre\n",
    "gen_list_med_domestic = gen_list_med['domestic_gross']\n",
    "gen_list_med_domestic"
   ]
  },
  {
   "cell_type": "code",
   "execution_count": 104,
   "metadata": {},
   "outputs": [],
   "source": [
    "#created a list variable for the top five foreign gross medians\n",
    "top_5_dmeds = [gen_list_med_foreign['Action'], gen_list_med_foreign['Adventure'], gen_list_med_foreign['Fantasy'], gen_list_med_foreign['Sci-Fi'], gen_list_med_foreign['Animation']]"
   ]
  },
  {
   "cell_type": "code",
   "execution_count": 105,
   "metadata": {},
   "outputs": [
    {
     "data": {
      "text/plain": [
       "genres_list\n",
       "Action          34657447.0\n",
       "Adventure       85523894.0\n",
       "Animation      104810579.0\n",
       "Biography        8241985.0\n",
       "Comedy          13083952.0\n",
       "Crime            8017344.5\n",
       "Documentary      3795236.0\n",
       "Drama            4796664.0\n",
       "Family          12522149.5\n",
       "Fantasy         42367409.5\n",
       "History         11705292.0\n",
       "Horror           5793429.0\n",
       "Music            2769933.0\n",
       "Musical         22513319.0\n",
       "Mystery         11353097.0\n",
       "News            40000000.0\n",
       "Reality-TV             0.0\n",
       "Romance          5547931.0\n",
       "Sci-Fi          21503654.0\n",
       "Sport            1357632.0\n",
       "Thriller         7551757.0\n",
       "War              4357174.0\n",
       "Western          1616726.0\n",
       "Name: foreign_gross, dtype: float64"
      ]
     },
     "execution_count": 105,
     "metadata": {},
     "output_type": "execute_result"
    }
   ],
   "source": [
    "gen_list_med_foreign"
   ]
  },
  {
   "cell_type": "code",
   "execution_count": 106,
   "metadata": {},
   "outputs": [],
   "source": [
    "#created a list variable for the top five foreign gross medians\n",
    "top_5_domestic_meds = [gen_list_med_domestic['Action'], gen_list_med_domestic['Adventure'], gen_list_med_domestic['Fantasy'], gen_list_med_domestic['Sci-Fi'], gen_list_med_domestic['Animation']]"
   ]
  },
  {
   "cell_type": "code",
   "execution_count": 107,
   "metadata": {},
   "outputs": [
    {
     "data": {
      "text/plain": [
       "[32754514.0, 58243820.5, 37381278.5, 27447471.0, 83295507.0]"
      ]
     },
     "execution_count": 107,
     "metadata": {},
     "output_type": "execute_result"
    }
   ],
   "source": [
    "top_5_domestic_meds"
   ]
  },
  {
   "cell_type": "code",
   "execution_count": 108,
   "metadata": {},
   "outputs": [],
   "source": [
    "#created varibable for top 5 foreign medians in the same order as domestic\n",
    "top_5_foreign_meds = [gen_list_med_foreign['Action'], gen_list_med_foreign['Adventure'], gen_list_med_foreign['Fantasy'], gen_list_med_foreign['Sci-Fi'], gen_list_med_foreign['Animation']]"
   ]
  },
  {
   "cell_type": "code",
   "execution_count": 109,
   "metadata": {},
   "outputs": [
    {
     "data": {
      "text/plain": [
       "[34657447.0, 85523894.0, 42367409.5, 21503654.0, 104810579.0]"
      ]
     },
     "execution_count": 109,
     "metadata": {},
     "output_type": "execute_result"
    }
   ],
   "source": [
    "#created a variable to align the top five foriegn gross medians for our char. We also put the in the same order as the list of top 5 domestic\n",
    "top_5_foreign_meds"
   ]
  },
  {
   "cell_type": "code",
   "execution_count": 110,
   "metadata": {},
   "outputs": [],
   "source": [
    "#created a variable to get the median forigen gross for each genre\n",
    "#jupe_for = num_genre_join.groupby('genres_list')['foreign_gross'].median()\n",
    "#jupe_for"
   ]
  },
  {
   "cell_type": "code",
   "execution_count": null,
   "metadata": {},
   "outputs": [],
   "source": []
  },
  {
   "cell_type": "code",
   "execution_count": 111,
   "metadata": {},
   "outputs": [
    {
     "data": {
      "image/png": "[encoded data removed]",
      "text/plain": [
       "<Figure size 720x864 with 1 Axes>"
      ]
     },
     "metadata": {
      "needs_background": "light"
     },
     "output_type": "display_data"
    }
   ],
   "source": [
    "#created a bar chart that shows the difference  between each genres foreign and domestic gross\n",
    "x = ['Action', 'Adventure', 'Fantasy', 'Sci-Fi', 'Animation']\n",
    "x_axis = np.arange(len(x))\n",
    "plt.figure(figsize=(10,12))\n",
    "plt.bar(x_axis - .2, top_5_domestic_meds, color ='red',\n",
    "        width = 0.4, label = 'domestic_gross' )\n",
    "plt.bar(x_axis + .2, top_5_foreign_meds, color ='blue',\n",
    "        width = 0.4, label = 'foreign_gross' )\n",
    "plt.xlabel(\"Genres\")\n",
    "plt.ylabel(\"Gross in Millions\")\n",
    "plt.title(\"Foreign Vs Domestic Gross Based on Genre\")\n",
    "plt.xticks(x_axis,x)\n",
    "plt.ticklabel_format(style='plain', axis='y')\n",
    "plt.legend()\n",
    "plt.show();"
   ]
  },
  {
   "cell_type": "code",
   "execution_count": null,
   "metadata": {},
   "outputs": [],
   "source": []
  },
  {
   "cell_type": "code",
   "execution_count": 123,
   "metadata": {},
   "outputs": [
    {
     "data": {
      "text/plain": [
       "0                           [Horror]\n",
       "1       [Action, Adventure, Fantasy]\n",
       "2        [Action, Adventure, Sci-Fi]\n",
       "3        [Action, Adventure, Sci-Fi]\n",
       "4        [Action, Adventure, Sci-Fi]\n",
       "                    ...             \n",
       "3808         [Comedy, Drama, Horror]\n",
       "3809                         [Drama]\n",
       "3812                 [Comedy, Drama]\n",
       "3813      [Horror, Sci-Fi, Thriller]\n",
       "3814       [Drama, Horror, Thriller]\n",
       "Name: genres, Length: 3309, dtype: object"
      ]
     },
     "execution_count": 123,
     "metadata": {},
     "output_type": "execute_result"
    }
   ],
   "source": [
    "clean_df['genres'].map(lambda x: x.split(','))"
   ]
  },
  {
   "cell_type": "code",
   "execution_count": 124,
   "metadata": {},
   "outputs": [
    {
     "name": "stderr",
     "output_type": "stream",
     "text": [
      "<ipython-input-124-4d7ef83a2b4d>:1: SettingWithCopyWarning: \n",
      "A value is trying to be set on a copy of a slice from a DataFrame.\n",
      "Try using .loc[row_indexer,col_indexer] = value instead\n",
      "\n",
      "See the caveats in the documentation: https://pandas.pydata.org/pandas-docs/stable/user_guide/indexing.html#returning-a-view-versus-a-copy\n",
      "  clean_df['genres_list'] = clean_df['genres'].str.split(',')\n"
     ]
    }
   ],
   "source": [
    "clean_df['genres_list'] = clean_df['genres'].str.split(',')"
   ]
  },
  {
   "cell_type": "code",
   "execution_count": 125,
   "metadata": {},
   "outputs": [
    {
     "data": {
      "text/html": [
       "<div>\n",
       "<style scoped>\n",
       "    .dataframe tbody tr th:only-of-type {\n",
       "        vertical-align: middle;\n",
       "    }\n",
       "\n",
       "    .dataframe tbody tr th {\n",
       "        vertical-align: top;\n",
       "    }\n",
       "\n",
       "    .dataframe thead th {\n",
       "        text-align: right;\n",
       "    }\n",
       "</style>\n",
       "<table border=\"1\" class=\"dataframe\">\n",
       "  <thead>\n",
       "    <tr style=\"text-align: right;\">\n",
       "      <th></th>\n",
       "      <th>id</th>\n",
       "      <th>release_date</th>\n",
       "      <th>movie</th>\n",
       "      <th>production_budget</th>\n",
       "      <th>domestic_gross</th>\n",
       "      <th>worldwide_gross</th>\n",
       "      <th>net_income</th>\n",
       "      <th>foreign_gross</th>\n",
       "      <th>Profit Margin</th>\n",
       "      <th>ROI</th>\n",
       "      <th>Year</th>\n",
       "      <th>Month</th>\n",
       "      <th>year</th>\n",
       "      <th>runtime_minutes</th>\n",
       "      <th>genres</th>\n",
       "      <th>genres_list</th>\n",
       "    </tr>\n",
       "  </thead>\n",
       "  <tbody>\n",
       "    <tr>\n",
       "      <th>0</th>\n",
       "      <td>1</td>\n",
       "      <td>Dec 18, 2009</td>\n",
       "      <td>Avatar</td>\n",
       "      <td>425000000</td>\n",
       "      <td>760507625</td>\n",
       "      <td>2776345279</td>\n",
       "      <td>2351345279</td>\n",
       "      <td>2015837654</td>\n",
       "      <td>84.692106</td>\n",
       "      <td>553.257713</td>\n",
       "      <td>2009</td>\n",
       "      <td>Dec</td>\n",
       "      <td>2011</td>\n",
       "      <td>93.0</td>\n",
       "      <td>Horror</td>\n",
       "      <td>Horror</td>\n",
       "    </tr>\n",
       "    <tr>\n",
       "      <th>1</th>\n",
       "      <td>2</td>\n",
       "      <td>May 20, 2011</td>\n",
       "      <td>Pirates of the Caribbean: On Stranger Tides</td>\n",
       "      <td>410600000</td>\n",
       "      <td>241063875</td>\n",
       "      <td>1045663875</td>\n",
       "      <td>635063875</td>\n",
       "      <td>804600000</td>\n",
       "      <td>60.733080</td>\n",
       "      <td>154.667286</td>\n",
       "      <td>2011</td>\n",
       "      <td>May</td>\n",
       "      <td>2011</td>\n",
       "      <td>136.0</td>\n",
       "      <td>Action,Adventure,Fantasy</td>\n",
       "      <td>Action</td>\n",
       "    </tr>\n",
       "    <tr>\n",
       "      <th>1</th>\n",
       "      <td>2</td>\n",
       "      <td>May 20, 2011</td>\n",
       "      <td>Pirates of the Caribbean: On Stranger Tides</td>\n",
       "      <td>410600000</td>\n",
       "      <td>241063875</td>\n",
       "      <td>1045663875</td>\n",
       "      <td>635063875</td>\n",
       "      <td>804600000</td>\n",
       "      <td>60.733080</td>\n",
       "      <td>154.667286</td>\n",
       "      <td>2011</td>\n",
       "      <td>May</td>\n",
       "      <td>2011</td>\n",
       "      <td>136.0</td>\n",
       "      <td>Action,Adventure,Fantasy</td>\n",
       "      <td>Adventure</td>\n",
       "    </tr>\n",
       "    <tr>\n",
       "      <th>1</th>\n",
       "      <td>2</td>\n",
       "      <td>May 20, 2011</td>\n",
       "      <td>Pirates of the Caribbean: On Stranger Tides</td>\n",
       "      <td>410600000</td>\n",
       "      <td>241063875</td>\n",
       "      <td>1045663875</td>\n",
       "      <td>635063875</td>\n",
       "      <td>804600000</td>\n",
       "      <td>60.733080</td>\n",
       "      <td>154.667286</td>\n",
       "      <td>2011</td>\n",
       "      <td>May</td>\n",
       "      <td>2011</td>\n",
       "      <td>136.0</td>\n",
       "      <td>Action,Adventure,Fantasy</td>\n",
       "      <td>Fantasy</td>\n",
       "    </tr>\n",
       "    <tr>\n",
       "      <th>2</th>\n",
       "      <td>3</td>\n",
       "      <td>Jun 7, 2019</td>\n",
       "      <td>Dark Phoenix</td>\n",
       "      <td>350000000</td>\n",
       "      <td>42762350</td>\n",
       "      <td>149762350</td>\n",
       "      <td>-200237650</td>\n",
       "      <td>107000000</td>\n",
       "      <td>-133.703598</td>\n",
       "      <td>-57.210757</td>\n",
       "      <td>2019</td>\n",
       "      <td>Jun</td>\n",
       "      <td>2019</td>\n",
       "      <td>113.0</td>\n",
       "      <td>Action,Adventure,Sci-Fi</td>\n",
       "      <td>Action</td>\n",
       "    </tr>\n",
       "    <tr>\n",
       "      <th>...</th>\n",
       "      <td>...</td>\n",
       "      <td>...</td>\n",
       "      <td>...</td>\n",
       "      <td>...</td>\n",
       "      <td>...</td>\n",
       "      <td>...</td>\n",
       "      <td>...</td>\n",
       "      <td>...</td>\n",
       "      <td>...</td>\n",
       "      <td>...</td>\n",
       "      <td>...</td>\n",
       "      <td>...</td>\n",
       "      <td>...</td>\n",
       "      <td>...</td>\n",
       "      <td>...</td>\n",
       "      <td>...</td>\n",
       "    </tr>\n",
       "    <tr>\n",
       "      <th>3813</th>\n",
       "      <td>78</td>\n",
       "      <td>Dec 31, 2018</td>\n",
       "      <td>Red 11</td>\n",
       "      <td>7000</td>\n",
       "      <td>0</td>\n",
       "      <td>0</td>\n",
       "      <td>-7000</td>\n",
       "      <td>0</td>\n",
       "      <td>0.000000</td>\n",
       "      <td>-100.000000</td>\n",
       "      <td>2018</td>\n",
       "      <td>Dec</td>\n",
       "      <td>2019</td>\n",
       "      <td>77.0</td>\n",
       "      <td>Horror,Sci-Fi,Thriller</td>\n",
       "      <td>Sci-Fi</td>\n",
       "    </tr>\n",
       "    <tr>\n",
       "      <th>3813</th>\n",
       "      <td>78</td>\n",
       "      <td>Dec 31, 2018</td>\n",
       "      <td>Red 11</td>\n",
       "      <td>7000</td>\n",
       "      <td>0</td>\n",
       "      <td>0</td>\n",
       "      <td>-7000</td>\n",
       "      <td>0</td>\n",
       "      <td>0.000000</td>\n",
       "      <td>-100.000000</td>\n",
       "      <td>2018</td>\n",
       "      <td>Dec</td>\n",
       "      <td>2019</td>\n",
       "      <td>77.0</td>\n",
       "      <td>Horror,Sci-Fi,Thriller</td>\n",
       "      <td>Thriller</td>\n",
       "    </tr>\n",
       "    <tr>\n",
       "      <th>3814</th>\n",
       "      <td>81</td>\n",
       "      <td>Sep 29, 2015</td>\n",
       "      <td>A Plague So Pleasant</td>\n",
       "      <td>1400</td>\n",
       "      <td>0</td>\n",
       "      <td>0</td>\n",
       "      <td>-1400</td>\n",
       "      <td>0</td>\n",
       "      <td>0.000000</td>\n",
       "      <td>-100.000000</td>\n",
       "      <td>2015</td>\n",
       "      <td>Sep</td>\n",
       "      <td>2013</td>\n",
       "      <td>76.0</td>\n",
       "      <td>Drama,Horror,Thriller</td>\n",
       "      <td>Drama</td>\n",
       "    </tr>\n",
       "    <tr>\n",
       "      <th>3814</th>\n",
       "      <td>81</td>\n",
       "      <td>Sep 29, 2015</td>\n",
       "      <td>A Plague So Pleasant</td>\n",
       "      <td>1400</td>\n",
       "      <td>0</td>\n",
       "      <td>0</td>\n",
       "      <td>-1400</td>\n",
       "      <td>0</td>\n",
       "      <td>0.000000</td>\n",
       "      <td>-100.000000</td>\n",
       "      <td>2015</td>\n",
       "      <td>Sep</td>\n",
       "      <td>2013</td>\n",
       "      <td>76.0</td>\n",
       "      <td>Drama,Horror,Thriller</td>\n",
       "      <td>Horror</td>\n",
       "    </tr>\n",
       "    <tr>\n",
       "      <th>3814</th>\n",
       "      <td>81</td>\n",
       "      <td>Sep 29, 2015</td>\n",
       "      <td>A Plague So Pleasant</td>\n",
       "      <td>1400</td>\n",
       "      <td>0</td>\n",
       "      <td>0</td>\n",
       "      <td>-1400</td>\n",
       "      <td>0</td>\n",
       "      <td>0.000000</td>\n",
       "      <td>-100.000000</td>\n",
       "      <td>2015</td>\n",
       "      <td>Sep</td>\n",
       "      <td>2013</td>\n",
       "      <td>76.0</td>\n",
       "      <td>Drama,Horror,Thriller</td>\n",
       "      <td>Thriller</td>\n",
       "    </tr>\n",
       "  </tbody>\n",
       "</table>\n",
       "<p>7204 rows × 16 columns</p>\n",
       "</div>"
      ],
      "text/plain": [
       "      id  release_date                                        movie  \\\n",
       "0      1  Dec 18, 2009                                       Avatar   \n",
       "1      2  May 20, 2011  Pirates of the Caribbean: On Stranger Tides   \n",
       "1      2  May 20, 2011  Pirates of the Caribbean: On Stranger Tides   \n",
       "1      2  May 20, 2011  Pirates of the Caribbean: On Stranger Tides   \n",
       "2      3   Jun 7, 2019                                 Dark Phoenix   \n",
       "...   ..           ...                                          ...   \n",
       "3813  78  Dec 31, 2018                                       Red 11   \n",
       "3813  78  Dec 31, 2018                                       Red 11   \n",
       "3814  81  Sep 29, 2015                         A Plague So Pleasant   \n",
       "3814  81  Sep 29, 2015                         A Plague So Pleasant   \n",
       "3814  81  Sep 29, 2015                         A Plague So Pleasant   \n",
       "\n",
       "      production_budget  domestic_gross  worldwide_gross  net_income  \\\n",
       "0             425000000       760507625       2776345279  2351345279   \n",
       "1             410600000       241063875       1045663875   635063875   \n",
       "1             410600000       241063875       1045663875   635063875   \n",
       "1             410600000       241063875       1045663875   635063875   \n",
       "2             350000000        42762350        149762350  -200237650   \n",
       "...                 ...             ...              ...         ...   \n",
       "3813               7000               0                0       -7000   \n",
       "3813               7000               0                0       -7000   \n",
       "3814               1400               0                0       -1400   \n",
       "3814               1400               0                0       -1400   \n",
       "3814               1400               0                0       -1400   \n",
       "\n",
       "      foreign_gross  Profit Margin         ROI  Year Month  year  \\\n",
       "0        2015837654      84.692106  553.257713  2009   Dec  2011   \n",
       "1         804600000      60.733080  154.667286  2011   May  2011   \n",
       "1         804600000      60.733080  154.667286  2011   May  2011   \n",
       "1         804600000      60.733080  154.667286  2011   May  2011   \n",
       "2         107000000    -133.703598  -57.210757  2019   Jun  2019   \n",
       "...             ...            ...         ...   ...   ...   ...   \n",
       "3813              0       0.000000 -100.000000  2018   Dec  2019   \n",
       "3813              0       0.000000 -100.000000  2018   Dec  2019   \n",
       "3814              0       0.000000 -100.000000  2015   Sep  2013   \n",
       "3814              0       0.000000 -100.000000  2015   Sep  2013   \n",
       "3814              0       0.000000 -100.000000  2015   Sep  2013   \n",
       "\n",
       "      runtime_minutes                    genres genres_list  \n",
       "0                93.0                    Horror      Horror  \n",
       "1               136.0  Action,Adventure,Fantasy      Action  \n",
       "1               136.0  Action,Adventure,Fantasy   Adventure  \n",
       "1               136.0  Action,Adventure,Fantasy     Fantasy  \n",
       "2               113.0   Action,Adventure,Sci-Fi      Action  \n",
       "...               ...                       ...         ...  \n",
       "3813             77.0    Horror,Sci-Fi,Thriller      Sci-Fi  \n",
       "3813             77.0    Horror,Sci-Fi,Thriller    Thriller  \n",
       "3814             76.0     Drama,Horror,Thriller       Drama  \n",
       "3814             76.0     Drama,Horror,Thriller      Horror  \n",
       "3814             76.0     Drama,Horror,Thriller    Thriller  \n",
       "\n",
       "[7204 rows x 16 columns]"
      ]
     },
     "execution_count": 125,
     "metadata": {},
     "output_type": "execute_result"
    }
   ],
   "source": [
    "genre_ex = clean_df.explode('genres_list')\n",
    "genre_ex"
   ]
  },
  {
   "cell_type": "code",
   "execution_count": null,
   "metadata": {},
   "outputs": [],
   "source": []
  },
  {
   "cell_type": "code",
   "execution_count": 141,
   "metadata": {},
   "outputs": [],
   "source": [
    "GG_income_genre = genre_ex.groupby('genres_list')['worldwide_gross'].median()"
   ]
  },
  {
   "cell_type": "code",
   "execution_count": 142,
   "metadata": {},
   "outputs": [
    {
     "data": {
      "text/plain": [
       "genres_list\n",
       "Animation      213691277.0\n",
       "Adventure      158905324.0\n",
       "Fantasy         80161653.5\n",
       "Action          79114085.0\n",
       "Sci-Fi          65104281.5\n",
       "Musical         55929699.0\n",
       "News            46730578.0\n",
       "Family          44793168.0\n",
       "Comedy          40966716.0\n",
       "Mystery         31192425.0\n",
       "Biography       25529498.0\n",
       "Thriller        25404956.5\n",
       "History         24074482.0\n",
       "Crime           23574057.0\n",
       "Romance         21842481.5\n",
       "Sport           21232735.5\n",
       "Drama           18733666.0\n",
       "Horror          17985000.0\n",
       "Music           17092887.5\n",
       "Documentary     16988800.5\n",
       "War             13032299.0\n",
       "Western          8332261.5\n",
       "Reality-TV             0.0\n",
       "Name: worldwide_gross, dtype: float64"
      ]
     },
     "execution_count": 142,
     "metadata": {},
     "output_type": "execute_result"
    }
   ],
   "source": [
    "GG_income_genre = GG_income_genre.sort_values(ascending=False)\n",
    "GG_income_genre"
   ]
  },
  {
   "cell_type": "code",
   "execution_count": 143,
   "metadata": {},
   "outputs": [],
   "source": [
    "GG_income_genre_mil = [(x/1000000) for x in GG_income_genre]"
   ]
  },
  {
   "cell_type": "code",
   "execution_count": 151,
   "metadata": {},
   "outputs": [
    {
     "data": {
      "image/png": "[encoded data removed]",
      "text/plain": [
       "<Figure size 432x288 with 1 Axes>"
      ]
     },
     "metadata": {
      "needs_background": "light"
     },
     "output_type": "display_data"
    }
   ],
   "source": [
    "colors_ax2 =  ['yellowgreen', 'yellowgreen', 'yellowgreen', 'yellowgreen', 'darkgrey',\n",
    "              'yellowgreen', 'darkgrey', 'darkgrey', 'darkgrey', 'darkgrey', 'darkgrey',\n",
    "              'darkgrey', 'darkgrey', 'darkgrey', 'darkgrey', 'darkgrey', 'darkgrey',\n",
    "              'darkgrey', 'darkgrey', 'darkgrey', 'darkgrey','darkgrey', 'darkgrey']\n",
    "\n",
    "\n",
    "fig = plt.figure()\n",
    "ax = fig.add_axes([0,0,1,1])\n",
    "ax.bar(x=GG_income_genre.index, height=GG_income_genre_mil, color=colors_ax2)\n",
    "ax.set_xlabel('Genre')\n",
    "ax.set_ylabel('Median Global Gross Income ($ millions)')\n",
    "ax.set_title('Global Gross Income by Genre')\n",
    "plt.ticklabel_format(axis='y', style='plain')\n",
    "plt.xticks(GG_income_genre.index, rotation=90);\n"
   ]
  },
  {
   "cell_type": "code",
   "execution_count": null,
   "metadata": {},
   "outputs": [],
   "source": []
  },
  {
   "cell_type": "code",
   "execution_count": null,
   "metadata": {},
   "outputs": [],
   "source": []
  },
  {
   "cell_type": "code",
   "execution_count": null,
   "metadata": {},
   "outputs": [],
   "source": []
  },
  {
   "cell_type": "code",
   "execution_count": null,
   "metadata": {},
   "outputs": [],
   "source": []
  }
 ],
 "metadata": {
  "kernelspec": {
   "display_name": "Python 3",
   "language": "python",
   "name": "python3"
  },
  "language_info": {
   "codemirror_mode": {
    "name": "ipython",
    "version": 3
   },
   "file_extension": ".py",
   "mimetype": "text/x-python",
   "name": "python",
   "nbconvert_exporter": "python",
   "pygments_lexer": "ipython3",
   "version": "3.8.5"
  }
 },
 "nbformat": 4,
 "nbformat_minor": 5
}
